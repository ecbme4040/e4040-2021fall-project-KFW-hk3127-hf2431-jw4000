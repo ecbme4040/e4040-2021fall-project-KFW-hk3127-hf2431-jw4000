{
 "cells": [
  {
   "cell_type": "markdown",
   "metadata": {
    "id": "eL-ncWkVsr9I"
   },
   "source": [
    "## Conversion from convolution filter to binary filter"
   ]
  },
  {
   "cell_type": "code",
   "execution_count": null,
   "metadata": {
    "id": "mDwRLx0Sswe4"
   },
   "outputs": [],
   "source": [
    "import tensorflow as tf\n",
    "import numpy as np\n",
    "from tensorflow import keras\n",
    "from tensorflow.keras import layers\n"
   ]
  },
  {
   "cell_type": "code",
   "execution_count": null,
   "metadata": {
    "id": "6i5CE6lGZsMI"
   },
   "outputs": [],
   "source": [
    "assert tf.__version__ >= \"2.7.0\""
   ]
  },
  {
   "cell_type": "code",
   "execution_count": null,
   "metadata": {
    "id": "Iq0djj9nDmE3"
   },
   "outputs": [],
   "source": [
    "tf.config.run_functions_eagerly(True)\n",
    "tf.executing_eagerly()\n",
    "tf.data.experimental.enable_debug_mode()\n"
   ]
  },
  {
   "cell_type": "code",
   "execution_count": null,
   "metadata": {
    "colab": {
     "base_uri": "https://localhost:8080/"
    },
    "id": "9ssryAAxrvuw",
    "outputId": "91fa57ed-9ed5-4c77-9ee8-d82f6de98d4e"
   },
   "outputs": [
    {
     "name": "stdout",
     "output_type": "stream",
     "text": [
      "Downloading data from https://www.cs.toronto.edu/~kriz/cifar-100-python.tar.gz\n",
      "169009152/169001437 [==============================] - 6s 0us/step\n",
      "169017344/169001437 [==============================] - 6s 0us/step\n",
      "x_train shape: (50000, 32, 32, 3)\n",
      "50000 train samples\n",
      "10000 test samples\n"
     ]
    }
   ],
   "source": [
    "# Model / data parameters\n",
    "num_classes = 20\n",
    "input_shape = (32, 32, 3)\n",
    "\n",
    "# the data, split between train and test sets\n",
    "(x_train, y_train), (x_test, y_test) = keras.datasets.cifar100.load_data(label_mode='coarse')\n",
    "\n",
    "# Scale images to the [0, 1] range\n",
    "x_train = x_train.astype(\"float32\") / 255\n",
    "x_test = x_test.astype(\"float32\") / 255\n",
    "\n",
    "print(\"x_train shape:\", x_train.shape)\n",
    "print(x_train.shape[0], \"train samples\")\n",
    "print(x_test.shape[0], \"test samples\")\n",
    "\n",
    "\n",
    "# convert class vectors to one-hot representations\n",
    "y_train = keras.utils.to_categorical(y_train, num_classes)\n",
    "y_test = keras.utils.to_categorical(y_test, num_classes)"
   ]
  },
  {
   "cell_type": "code",
   "execution_count": null,
   "metadata": {
    "id": "svXLbpBa1_2e"
   },
   "outputs": [],
   "source": [
    "@tf.custom_gradient\n",
    "def generate_B(W,u): # generate B given weight W and a specified u\n",
    "  def grad(upstream): # define gradient by ourselves (dc/dW, dc/du)\n",
    "    dB_dW = 1\n",
    "    return upstream * dB_dW, 1\n",
    "  std_W = tf.math.reduce_std(W) # calculate std(W)\n",
    "  mean_W =  tf.math.reduce_mean(W) # calculate mean(W)\n",
    "  Bi = tf.math.sign(W - mean_W + u * mean_W) #calculate Bi\n",
    "  return Bi, grad"
   ]
  },
  {
   "cell_type": "code",
   "execution_count": null,
   "metadata": {
    "id": "a5Kz_IbC77na"
   },
   "outputs": [],
   "source": [
    "from sklearn.linear_model import LinearRegression\n",
    "def generate_alpha(W,list_of_B): # generate alpha given weight W and list of B containing all Bi\n",
    "  W = tf.reshape(W, [-1]).numpy() #vectorize W\n",
    "  list_of_reshape_B = []\n",
    "  for i in list_of_B: # vectorize Bi\n",
    "    list_of_reshape_B.append(tf.reshape(i, [-1]))\n",
    "  B = tf.stack(list_of_reshape_B, axis=1).numpy() # put Bi together into a large matrix\n",
    "  reg = LinearRegression(fit_intercept=False).fit(B, W) # linear regression\n",
    "  alpha = reg.coef_ # coefficient of linear regression, which is alpha\n",
    "  return alpha\n",
    "\n"
   ]
  },
  {
   "cell_type": "code",
   "execution_count": null,
   "metadata": {
    "id": "7fGwr3GEmGgb"
   },
   "outputs": [],
   "source": [
    "@tf.custom_gradient\n",
    "def H_v(R, v): # calculate H_v given input R and shift parameter v\n",
    "  def grad(upstream):  # define gradient by ourselves (dc/dR, dc/dv)\n",
    "    return upstream, tf.math.reduce_sum(upstream)\n",
    "  return 2 * tf.cast(tf.math.greater(tf.math.add(R, v), tf.constant(0.5)), tf.float32) - 1, grad # calculate H_v"
   ]
  },
  {
   "cell_type": "markdown",
   "metadata": {},
   "source": [
    "Initialization of ABCConv class with M=3,N=5"
   ]
  },
  {
   "cell_type": "code",
   "execution_count": null,
   "metadata": {
    "id": "EuQQxmbyNcLD"
   },
   "outputs": [],
   "source": [
    "import tensorflow as tf\n",
    "import tensorflow.keras as keras\n",
    "import keras.layers as layers\n",
    "import numpy as np\n",
    "\n",
    "# number of binary activations\n",
    "N = 5\n",
    "class ABCConv(layers.Conv2D): # subclass of layers.Conv2D\n",
    "    def __init__(self, *args, **kwargs):\n",
    "        super().__init__(*args, **kwargs)\n",
    "        self.betas = self.add_weight(\n",
    "            shape=(N,), initializer=\"random_normal\", trainable=True\n",
    "        )\n",
    "        self.vs = self.add_weight(shape=(N,), initializer=\"random_normal\", trainable=True)\n",
    "\n",
    "    def convolution_op(self, inputs, kernel): # override convolution_op\n",
    "        ## Multiple binary activations and bitwise convolution\n",
    "        \n",
    "        # given beta's and v's, get all binary activations\n",
    "        binary_activations = []\n",
    "        list_of_A = []\n",
    "        for i in range(0,N):\n",
    "          list_of_A.append(H_v(inputs,self.vs[i]))\n",
    "        \n",
    "\n",
    "        # get all B\n",
    "        M = 3\n",
    "        list_of_u = []\n",
    "        for i in range(1,M+1): # all u\n",
    "          list_of_u.append(-1 + (i -1.0) * 2 / (M-1))\n",
    "        list_of_B = []\n",
    "        for i in range(1,M+1): # all B\n",
    "          list_of_B.append(generate_B(kernel, list_of_u[i-1]))\n",
    "       \n",
    "        \n",
    "        \n",
    "        # get alphas \n",
    "        alphas = generate_alpha(kernel,list_of_B)\n",
    "        # call individual convs\n",
    "        convs = []\n",
    "        for j in range(N):\n",
    "          for i in range(M):\n",
    "            convs.append(alphas[i]* self.betas[j] * tf.nn.conv2d(\n",
    "                list_of_A[j],\n",
    "                list_of_B[i],\n",
    "                padding=\"VALID\",\n",
    "                strides=list(self.strides),\n",
    "                name=self.__class__.__name__ + \"conv\" + str(i) + str(j),\n",
    "              ))\n",
    "        return tf.add_n(convs) # linear combination of all convolution results\n",
    "        "
   ]
  },
  {
   "cell_type": "code",
   "execution_count": null,
   "metadata": {
    "colab": {
     "base_uri": "https://localhost:8080/"
    },
    "id": "f691yl0ygedY",
    "outputId": "7d7f81f6-9f9b-436e-d597-47565430a6f2"
   },
   "outputs": [
    {
     "name": "stdout",
     "output_type": "stream",
     "text": [
      "Model: \"sequential_1\"\n",
      "_________________________________________________________________\n",
      " Layer (type)                Output Shape              Param #   \n",
      "=================================================================\n",
      " abc_conv_13 (ABCConv)       (None, 32, 32, 64)        1802      \n",
      "                                                                 \n",
      " batch_normalization_13 (Bat  (None, 32, 32, 64)       256       \n",
      " chNormalization)                                                \n",
      "                                                                 \n",
      " abc_conv_14 (ABCConv)       (None, 32, 32, 64)        36938     \n",
      "                                                                 \n",
      " batch_normalization_14 (Bat  (None, 32, 32, 64)       256       \n",
      " chNormalization)                                                \n",
      "                                                                 \n",
      " max_pooling2d_5 (MaxPooling  (None, 16, 16, 64)       0         \n",
      " 2D)                                                             \n",
      "                                                                 \n",
      " abc_conv_15 (ABCConv)       (None, 16, 16, 128)       73866     \n",
      "                                                                 \n",
      " batch_normalization_15 (Bat  (None, 16, 16, 128)      512       \n",
      " chNormalization)                                                \n",
      "                                                                 \n",
      " abc_conv_16 (ABCConv)       (None, 16, 16, 128)       147594    \n",
      "                                                                 \n",
      " batch_normalization_16 (Bat  (None, 16, 16, 128)      512       \n",
      " chNormalization)                                                \n",
      "                                                                 \n",
      " max_pooling2d_6 (MaxPooling  (None, 8, 8, 128)        0         \n",
      " 2D)                                                             \n",
      "                                                                 \n",
      " abc_conv_17 (ABCConv)       (None, 8, 8, 256)         295178    \n",
      "                                                                 \n",
      " batch_normalization_17 (Bat  (None, 8, 8, 256)        1024      \n",
      " chNormalization)                                                \n",
      "                                                                 \n",
      " dropout_2 (Dropout)         (None, 8, 8, 256)         0         \n",
      "                                                                 \n",
      " abc_conv_18 (ABCConv)       (None, 8, 8, 256)         590090    \n",
      "                                                                 \n",
      " batch_normalization_18 (Bat  (None, 8, 8, 256)        1024      \n",
      " chNormalization)                                                \n",
      "                                                                 \n",
      " abc_conv_19 (ABCConv)       (None, 8, 8, 256)         590090    \n",
      "                                                                 \n",
      " batch_normalization_19 (Bat  (None, 8, 8, 256)        1024      \n",
      " chNormalization)                                                \n",
      "                                                                 \n",
      " max_pooling2d_7 (MaxPooling  (None, 4, 4, 256)        0         \n",
      " 2D)                                                             \n",
      "                                                                 \n",
      " abc_conv_20 (ABCConv)       (None, 4, 4, 512)         1180170   \n",
      "                                                                 \n",
      " batch_normalization_20 (Bat  (None, 4, 4, 512)        2048      \n",
      " chNormalization)                                                \n",
      "                                                                 \n",
      " abc_conv_21 (ABCConv)       (None, 4, 4, 512)         2359818   \n",
      "                                                                 \n",
      " batch_normalization_21 (Bat  (None, 4, 4, 512)        2048      \n",
      " chNormalization)                                                \n",
      "                                                                 \n",
      " abc_conv_22 (ABCConv)       (None, 4, 4, 512)         2359818   \n",
      "                                                                 \n",
      " batch_normalization_22 (Bat  (None, 4, 4, 512)        2048      \n",
      " chNormalization)                                                \n",
      "                                                                 \n",
      " max_pooling2d_8 (MaxPooling  (None, 2, 2, 512)        0         \n",
      " 2D)                                                             \n",
      "                                                                 \n",
      " abc_conv_23 (ABCConv)       (None, 2, 2, 512)         2359818   \n",
      "                                                                 \n",
      " batch_normalization_23 (Bat  (None, 2, 2, 512)        2048      \n",
      " chNormalization)                                                \n",
      "                                                                 \n",
      " dropout_3 (Dropout)         (None, 2, 2, 512)         0         \n",
      "                                                                 \n",
      " abc_conv_24 (ABCConv)       (None, 2, 2, 512)         2359818   \n",
      "                                                                 \n",
      " batch_normalization_24 (Bat  (None, 2, 2, 512)        2048      \n",
      " chNormalization)                                                \n",
      "                                                                 \n",
      " abc_conv_25 (ABCConv)       (None, 2, 2, 512)         2359818   \n",
      "                                                                 \n",
      " batch_normalization_25 (Bat  (None, 2, 2, 512)        2048      \n",
      " chNormalization)                                                \n",
      "                                                                 \n",
      " max_pooling2d_9 (MaxPooling  (None, 1, 1, 512)        0         \n",
      " 2D)                                                             \n",
      "                                                                 \n",
      " flatten_1 (Flatten)         (None, 512)               0         \n",
      "                                                                 \n",
      " dense_2 (Dense)             (None, 128)               65664     \n",
      "                                                                 \n",
      " dense_3 (Dense)             (None, 20)                2580      \n",
      "                                                                 \n",
      "=================================================================\n",
      "Total params: 14,799,958\n",
      "Trainable params: 14,791,510\n",
      "Non-trainable params: 8,448\n",
      "_________________________________________________________________\n"
     ]
    }
   ],
   "source": [
    "tf.compat.v1.logging.set_verbosity(tf.compat.v1.logging.ERROR)\n",
    "\n",
    "model_3_5_VGG = keras.Sequential(\n",
    "    [\n",
    "        keras.Input(shape=input_shape),\n",
    "\n",
    "\n",
    "        ABCConv(64, kernel_size=(3, 3), activation=None,  padding = \"same\"),\n",
    "        layers.BatchNormalization(),\n",
    "        ABCConv(64, kernel_size=(3, 3), activation=None,  padding = \"same\"),\n",
    "        layers.BatchNormalization(),\n",
    "        layers.MaxPooling2D(pool_size=(2, 2)),\n",
    "        \n",
    "        \n",
    "        ABCConv(128, kernel_size=(3, 3), activation=None,  padding = \"same\"),\n",
    "        layers.BatchNormalization(),\n",
    "        ABCConv(128, kernel_size=(3, 3), activation=None,  padding = \"same\"),\n",
    "        layers.BatchNormalization(),\n",
    "        layers.MaxPooling2D(pool_size=(2, 2)),\n",
    "        \n",
    "        ABCConv(256, kernel_size=(3, 3), activation=None,  padding = \"same\"),\n",
    "        layers.BatchNormalization(),\n",
    "        layers.Dropout(0.4),\n",
    "        ABCConv(256, kernel_size=(3, 3), activation=None,  padding = \"same\"),\n",
    "        layers.BatchNormalization(),\n",
    "        ABCConv(256, kernel_size=(3, 3), activation=None,  padding = \"same\"),\n",
    "        layers.BatchNormalization(),\n",
    "        layers.MaxPooling2D(pool_size=(2, 2)),\n",
    "\n",
    "        ABCConv(512, kernel_size=(3, 3), activation=None,  padding = \"same\"),\n",
    "        layers.BatchNormalization(),\n",
    "        ABCConv(512, kernel_size=(3, 3), activation=None,  padding = \"same\"),\n",
    "        layers.BatchNormalization(),\n",
    "        ABCConv(512, kernel_size=(3, 3), activation=None,  padding = \"same\"),\n",
    "        layers.BatchNormalization(),\n",
    "        layers.MaxPooling2D(pool_size=(2, 2)),\n",
    "        \n",
    "        ABCConv(512, kernel_size=(3, 3), activation=None,  padding = \"same\"),\n",
    "        layers.BatchNormalization(),\n",
    "        layers.Dropout(0.4),\n",
    "        ABCConv(512, kernel_size=(3, 3), activation=None,  padding = \"same\"),\n",
    "        layers.BatchNormalization(),\n",
    "        ABCConv(512, kernel_size=(3, 3), activation=None,  padding = \"same\"),\n",
    "        layers.BatchNormalization(),\n",
    "        layers.MaxPooling2D(pool_size=(2, 2)),\n",
    "             \n",
    "        layers.Flatten(),\n",
    "        layers.Dense(128, activation=\"relu\"),\n",
    "        layers.Dense(num_classes, activation=\"softmax\")\n",
    "    ]\n",
    ")\n",
    "\n",
    "model_3_5_VGG.summary()"
   ]
  },
  {
   "cell_type": "code",
   "execution_count": null,
   "metadata": {
    "colab": {
     "base_uri": "https://localhost:8080/"
    },
    "id": "7rBhdyXvYDyp",
    "outputId": "d0ba1612-cf15-411d-a79f-f73d108e447f"
   },
   "outputs": [
    {
     "name": "stdout",
     "output_type": "stream",
     "text": [
      "Epoch 1/10\n",
      "704/704 [==============================] - 1183s 2s/step - loss: 2.9101 - categorical_accuracy: 0.0873 - top_k_categorical_accuracy: 0.2459 - val_loss: 2.8300 - val_categorical_accuracy: 0.1178 - val_top_k_categorical_accuracy: 0.3092\n",
      "Epoch 2/10\n",
      "704/704 [==============================] - 1182s 2s/step - loss: 2.8097 - categorical_accuracy: 0.1191 - top_k_categorical_accuracy: 0.3115 - val_loss: 2.8238 - val_categorical_accuracy: 0.1124 - val_top_k_categorical_accuracy: 0.3084\n",
      "Epoch 3/10\n",
      "704/704 [==============================] - 1173s 2s/step - loss: 2.7475 - categorical_accuracy: 0.1370 - top_k_categorical_accuracy: 0.3440 - val_loss: 2.9512 - val_categorical_accuracy: 0.1032 - val_top_k_categorical_accuracy: 0.2934\n",
      "Epoch 4/10\n",
      "704/704 [==============================] - 1172s 2s/step - loss: 2.7062 - categorical_accuracy: 0.1570 - top_k_categorical_accuracy: 0.3662 - val_loss: 2.8695 - val_categorical_accuracy: 0.1150 - val_top_k_categorical_accuracy: 0.3078\n",
      "Epoch 5/10\n",
      "704/704 [==============================] - 1174s 2s/step - loss: 2.6430 - categorical_accuracy: 0.1785 - top_k_categorical_accuracy: 0.3961 - val_loss: 2.7518 - val_categorical_accuracy: 0.1664 - val_top_k_categorical_accuracy: 0.3610\n",
      "Epoch 6/10\n",
      "704/704 [==============================] - 1159s 2s/step - loss: 2.5752 - categorical_accuracy: 0.2057 - top_k_categorical_accuracy: 0.4284 - val_loss: 2.6167 - val_categorical_accuracy: 0.1978 - val_top_k_categorical_accuracy: 0.4080\n",
      "Epoch 7/10\n",
      "704/704 [==============================] - 1148s 2s/step - loss: 2.5121 - categorical_accuracy: 0.2260 - top_k_categorical_accuracy: 0.4574 - val_loss: 2.5975 - val_categorical_accuracy: 0.2170 - val_top_k_categorical_accuracy: 0.4428\n",
      "Epoch 8/10\n",
      "704/704 [==============================] - 1150s 2s/step - loss: 2.4359 - categorical_accuracy: 0.2486 - top_k_categorical_accuracy: 0.4910 - val_loss: 2.5562 - val_categorical_accuracy: 0.2258 - val_top_k_categorical_accuracy: 0.4624\n",
      "Epoch 9/10\n",
      "704/704 [==============================] - 1152s 2s/step - loss: 2.3657 - categorical_accuracy: 0.2697 - top_k_categorical_accuracy: 0.5158 - val_loss: 2.6898 - val_categorical_accuracy: 0.2198 - val_top_k_categorical_accuracy: 0.4336\n",
      "Epoch 10/10\n",
      "704/704 [==============================] - 1153s 2s/step - loss: 2.3060 - categorical_accuracy: 0.2870 - top_k_categorical_accuracy: 0.5386 - val_loss: 2.3721 - val_categorical_accuracy: 0.2734 - val_top_k_categorical_accuracy: 0.5222\n",
      "Evaluate on test data\n",
      "79/79 [==============================] - 94s 1s/step - loss: 2.3535 - categorical_accuracy: 0.2808 - top_k_categorical_accuracy: 0.5408\n",
      "test loss, test acc: [2.3535454273223877, 0.2808000147342682, 0.5407999753952026]\n"
     ]
    }
   ],
   "source": [
    "# M=3, N=5\n",
    "batch_size = 64\n",
    "epochs = 10\n",
    "\n",
    "model_3_5_VGG.compile(loss=\"categorical_crossentropy\", optimizer=\"adam\", metrics=[tf.keras.metrics.CategoricalAccuracy(),tf.keras.metrics.TopKCategoricalAccuracy(k=3)],run_eagerly=True)\n",
    "\n",
    "model_3_5_VGG.fit(x_train, y_train, batch_size=batch_size, epochs=epochs, validation_split=0.1)\n",
    "\n",
    "# model.fit(x_train, y_train, batch_size=batch_size, epochs=epochs, validation_data=(x_test, y_test))\n",
    "# Evaluate the model on the test data using `evaluate`\n",
    "print(\"Evaluate on test data\")\n",
    "results = model_3_5_VGG.evaluate(x_test, y_test, batch_size=128)\n",
    "print(\"test loss, test acc:\", results)"
   ]
  }
 ],
 "metadata": {
  "accelerator": "GPU",
  "colab": {
   "collapsed_sections": [],
   "name": "Model_3_5_VGG.ipynb",
   "provenance": []
  },
  "kernelspec": {
   "display_name": "Python 3",
   "language": "python",
   "name": "python3"
  },
  "language_info": {
   "codemirror_mode": {
    "name": "ipython",
    "version": 3
   },
   "file_extension": ".py",
   "mimetype": "text/x-python",
   "name": "python",
   "nbconvert_exporter": "python",
   "pygments_lexer": "ipython3",
   "version": "3.6.9"
  }
 },
 "nbformat": 4,
 "nbformat_minor": 1
}
