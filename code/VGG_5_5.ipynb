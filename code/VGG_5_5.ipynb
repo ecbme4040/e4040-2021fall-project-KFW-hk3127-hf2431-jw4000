{
 "cells": [
  {
   "cell_type": "code",
   "execution_count": null,
   "metadata": {
    "id": "woxtR4cv2D3s"
   },
   "outputs": [],
   "source": [
    "import tensorflow as tf\n",
    "import numpy as np\n",
    "from tensorflow import keras\n",
    "from tensorflow.keras import layers"
   ]
  },
  {
   "cell_type": "code",
   "execution_count": null,
   "metadata": {
    "id": "UbPwEfcr2dGp"
   },
   "outputs": [],
   "source": [
    "assert tf.__version__ >= \"2.7.0\""
   ]
  },
  {
   "cell_type": "code",
   "execution_count": null,
   "metadata": {
    "id": "LPymFR-L2gAJ"
   },
   "outputs": [],
   "source": [
    "tf.config.run_functions_eagerly(True)\n",
    "tf.executing_eagerly()\n",
    "tf.data.experimental.enable_debug_mode()"
   ]
  },
  {
   "cell_type": "code",
   "execution_count": null,
   "metadata": {
    "colab": {
     "base_uri": "https://localhost:8080/"
    },
    "id": "i1BDu9dw2iyw",
    "outputId": "b4964ca3-6dda-4880-e967-52b04b5a9341"
   },
   "outputs": [
    {
     "name": "stdout",
     "output_type": "stream",
     "text": [
      "Downloading data from https://www.cs.toronto.edu/~kriz/cifar-100-python.tar.gz\n",
      "169009152/169001437 [==============================] - 3s 0us/step\n",
      "169017344/169001437 [==============================] - 3s 0us/step\n",
      "x_train shape: (50000, 32, 32, 3)\n",
      "50000 train samples\n",
      "10000 test samples\n"
     ]
    }
   ],
   "source": [
    "# Model / data parameters\n",
    "num_classes = 20\n",
    "input_shape = (32, 32, 3)\n",
    "\n",
    "# the data, split between train and test sets\n",
    "(x_train, y_train), (x_test, y_test) = keras.datasets.cifar100.load_data(label_mode='coarse')\n",
    "\n",
    "# Scale images to the [0, 1] range\n",
    "x_train = x_train.astype(\"float32\") / 255\n",
    "x_test = x_test.astype(\"float32\") / 255\n",
    "\n",
    "print(\"x_train shape:\", x_train.shape)\n",
    "print(x_train.shape[0], \"train samples\")\n",
    "print(x_test.shape[0], \"test samples\")\n",
    "\n",
    "\n",
    "# convert class vectors to one-hot representations\n",
    "y_train = keras.utils.to_categorical(y_train, num_classes)\n",
    "y_test = keras.utils.to_categorical(y_test, num_classes)"
   ]
  },
  {
   "cell_type": "code",
   "execution_count": null,
   "metadata": {
    "id": "ItMWDynv2n6h"
   },
   "outputs": [],
   "source": [
    "@tf.custom_gradient\n",
    "def generate_B(W,u): # generate B given weight W and a specified u\n",
    "  def grad(upstream): # define gradient by ourselves (dc/dW, dc/du)\n",
    "    dB_dW = 1\n",
    "    return upstream * dB_dW, 1\n",
    "  std_W = tf.math.reduce_std(W) # calculate std(W)\n",
    "  mean_W =  tf.math.reduce_mean(W) # calculate mean(W)\n",
    "  Bi = tf.math.sign(W - mean_W + u * mean_W) #calculate Bi\n",
    "  return Bi, grad"
   ]
  },
  {
   "cell_type": "code",
   "execution_count": null,
   "metadata": {
    "id": "DzOTaU1n2txa"
   },
   "outputs": [],
   "source": [
    "from sklearn.linear_model import LinearRegression\n",
    "def generate_alpha(W,list_of_B): # generate alpha given weight W and list of B containing all Bi\n",
    "  W = tf.reshape(W, [-1]).numpy() #vectorize W\n",
    "  list_of_reshape_B = []\n",
    "  for i in list_of_B: # vectorize Bi\n",
    "    list_of_reshape_B.append(tf.reshape(i, [-1]))\n",
    "  B = tf.stack(list_of_reshape_B, axis=1).numpy() # put Bi together into a large matrix\n",
    "  reg = LinearRegression(fit_intercept=False).fit(B, W) # linear regression\n",
    "  alpha = reg.coef_ # coefficient of linear regression, which is alpha\n",
    "  return alpha\n"
   ]
  },
  {
   "cell_type": "code",
   "execution_count": null,
   "metadata": {
    "id": "RHnw7Zuu2vdl"
   },
   "outputs": [],
   "source": [
    "@tf.custom_gradient\n",
    "def H_v(R, v): # calculate H_v given input R and shift parameter v\n",
    "  def grad(upstream):  # define gradient by ourselves (dc/dR, dc/dv)\n",
    "    return upstream, tf.math.reduce_sum(upstream)\n",
    "  return 2 * tf.cast(tf.math.greater(tf.math.add(R, v), tf.constant(0.5)), tf.float32) - 1, grad # calculate H_v"
   ]
  },
  {
   "cell_type": "markdown",
   "metadata": {},
   "source": [
    "Initialization of ABCConv class with M=5,N=5"
   ]
  },
  {
   "cell_type": "code",
   "execution_count": null,
   "metadata": {
    "id": "bfjy41lg23QV"
   },
   "outputs": [],
   "source": [
    "import tensorflow as tf\n",
    "import tensorflow.keras as keras\n",
    "import keras.layers as layers\n",
    "import numpy as np\n",
    "\n",
    "# number of binary activations\n",
    "N = 5\n",
    "class ABCConv(layers.Conv2D): # subclass of layers.Conv2D\n",
    "    def __init__(self, *args, **kwargs):\n",
    "        super().__init__(*args, **kwargs)\n",
    "        self.betas = self.add_weight(\n",
    "            shape=(N,), initializer=\"random_normal\", trainable=True\n",
    "        )\n",
    "        self.vs = self.add_weight(shape=(N,), initializer=\"random_normal\", trainable=True)\n",
    "\n",
    "    def convolution_op(self, inputs, kernel): # override convolution_op\n",
    "        ## Multiple binary activations and bitwise convolution\n",
    "        \n",
    "        # given beta's and v's, get all binary activations\n",
    "        binary_activations = []\n",
    "        list_of_A = []\n",
    "        for i in range(0,N):\n",
    "          list_of_A.append(H_v(inputs,self.vs[i]))\n",
    "        \n",
    "\n",
    "        # get all B\n",
    "        M = 5\n",
    "        list_of_u = []\n",
    "        for i in range(1,M+1): # all u\n",
    "          list_of_u.append(-1 + (i -1.0) * 2 / (M-1))\n",
    "        list_of_B = []\n",
    "        for i in range(1,M+1): # all B\n",
    "          list_of_B.append(generate_B(kernel, list_of_u[i-1]))\n",
    "       \n",
    "        \n",
    "        \n",
    "        # get alphas \n",
    "        alphas = generate_alpha(kernel,list_of_B)\n",
    "        # call individual convs\n",
    "        convs = []\n",
    "        for j in range(N):\n",
    "          for i in range(M):\n",
    "            convs.append(alphas[i]* self.betas[j] * tf.nn.conv2d(\n",
    "                list_of_A[j],\n",
    "                list_of_B[i],\n",
    "                padding=\"VALID\",\n",
    "                strides=list(self.strides),\n",
    "                name=self.__class__.__name__ + \"conv\" + str(i) + str(j),\n",
    "              ))\n",
    "        return tf.add_n(convs) # linear combination of all convolution results\n",
    "        "
   ]
  },
  {
   "cell_type": "code",
   "execution_count": null,
   "metadata": {
    "colab": {
     "base_uri": "https://localhost:8080/"
    },
    "id": "Phi4w2rz2-KB",
    "outputId": "eb4ea3f2-d315-4fd2-f787-d8dc82e003b8"
   },
   "outputs": [
    {
     "name": "stdout",
     "output_type": "stream",
     "text": [
      "Model: \"sequential\"\n",
      "_________________________________________________________________\n",
      " Layer (type)                Output Shape              Param #   \n",
      "=================================================================\n",
      " abc_conv (ABCConv)          (None, 32, 32, 64)        1802      \n",
      "                                                                 \n",
      " batch_normalization (BatchN  (None, 32, 32, 64)       256       \n",
      " ormalization)                                                   \n",
      "                                                                 \n",
      " abc_conv_1 (ABCConv)        (None, 32, 32, 64)        36938     \n",
      "                                                                 \n",
      " batch_normalization_1 (Batc  (None, 32, 32, 64)       256       \n",
      " hNormalization)                                                 \n",
      "                                                                 \n",
      " max_pooling2d (MaxPooling2D  (None, 16, 16, 64)       0         \n",
      " )                                                               \n",
      "                                                                 \n",
      " abc_conv_2 (ABCConv)        (None, 16, 16, 128)       73866     \n",
      "                                                                 \n",
      " batch_normalization_2 (Batc  (None, 16, 16, 128)      512       \n",
      " hNormalization)                                                 \n",
      "                                                                 \n",
      " abc_conv_3 (ABCConv)        (None, 16, 16, 128)       147594    \n",
      "                                                                 \n",
      " batch_normalization_3 (Batc  (None, 16, 16, 128)      512       \n",
      " hNormalization)                                                 \n",
      "                                                                 \n",
      " max_pooling2d_1 (MaxPooling  (None, 8, 8, 128)        0         \n",
      " 2D)                                                             \n",
      "                                                                 \n",
      " abc_conv_4 (ABCConv)        (None, 8, 8, 256)         295178    \n",
      "                                                                 \n",
      " batch_normalization_4 (Batc  (None, 8, 8, 256)        1024      \n",
      " hNormalization)                                                 \n",
      "                                                                 \n",
      " dropout (Dropout)           (None, 8, 8, 256)         0         \n",
      "                                                                 \n",
      " abc_conv_5 (ABCConv)        (None, 8, 8, 256)         590090    \n",
      "                                                                 \n",
      " batch_normalization_5 (Batc  (None, 8, 8, 256)        1024      \n",
      " hNormalization)                                                 \n",
      "                                                                 \n",
      " abc_conv_6 (ABCConv)        (None, 8, 8, 256)         590090    \n",
      "                                                                 \n",
      " batch_normalization_6 (Batc  (None, 8, 8, 256)        1024      \n",
      " hNormalization)                                                 \n",
      "                                                                 \n",
      " max_pooling2d_2 (MaxPooling  (None, 4, 4, 256)        0         \n",
      " 2D)                                                             \n",
      "                                                                 \n",
      " abc_conv_7 (ABCConv)        (None, 4, 4, 512)         1180170   \n",
      "                                                                 \n",
      " batch_normalization_7 (Batc  (None, 4, 4, 512)        2048      \n",
      " hNormalization)                                                 \n",
      "                                                                 \n",
      " abc_conv_8 (ABCConv)        (None, 4, 4, 512)         2359818   \n",
      "                                                                 \n",
      " batch_normalization_8 (Batc  (None, 4, 4, 512)        2048      \n",
      " hNormalization)                                                 \n",
      "                                                                 \n",
      " abc_conv_9 (ABCConv)        (None, 4, 4, 512)         2359818   \n",
      "                                                                 \n",
      " batch_normalization_9 (Batc  (None, 4, 4, 512)        2048      \n",
      " hNormalization)                                                 \n",
      "                                                                 \n",
      " max_pooling2d_3 (MaxPooling  (None, 2, 2, 512)        0         \n",
      " 2D)                                                             \n",
      "                                                                 \n",
      " abc_conv_10 (ABCConv)       (None, 2, 2, 512)         2359818   \n",
      "                                                                 \n",
      " batch_normalization_10 (Bat  (None, 2, 2, 512)        2048      \n",
      " chNormalization)                                                \n",
      "                                                                 \n",
      " dropout_1 (Dropout)         (None, 2, 2, 512)         0         \n",
      "                                                                 \n",
      " abc_conv_11 (ABCConv)       (None, 2, 2, 512)         2359818   \n",
      "                                                                 \n",
      " batch_normalization_11 (Bat  (None, 2, 2, 512)        2048      \n",
      " chNormalization)                                                \n",
      "                                                                 \n",
      " abc_conv_12 (ABCConv)       (None, 2, 2, 512)         2359818   \n",
      "                                                                 \n",
      " batch_normalization_12 (Bat  (None, 2, 2, 512)        2048      \n",
      " chNormalization)                                                \n",
      "                                                                 \n",
      " max_pooling2d_4 (MaxPooling  (None, 1, 1, 512)        0         \n",
      " 2D)                                                             \n",
      "                                                                 \n",
      " flatten (Flatten)           (None, 512)               0         \n",
      "                                                                 \n",
      " dense (Dense)               (None, 128)               65664     \n",
      "                                                                 \n",
      " dense_1 (Dense)             (None, 20)                2580      \n",
      "                                                                 \n",
      "=================================================================\n",
      "Total params: 14,799,958\n",
      "Trainable params: 14,791,510\n",
      "Non-trainable params: 8,448\n",
      "_________________________________________________________________\n"
     ]
    }
   ],
   "source": [
    "tf.compat.v1.logging.set_verbosity(tf.compat.v1.logging.ERROR)\n",
    "\n",
    "model_5_5_VGG = keras.Sequential(\n",
    "    [\n",
    "        keras.Input(shape=input_shape),\n",
    "\n",
    "\n",
    "        ABCConv(64, kernel_size=(3, 3), activation=None,  padding = \"same\"),\n",
    "        layers.BatchNormalization(),\n",
    "        ABCConv(64, kernel_size=(3, 3), activation=None,  padding = \"same\"),\n",
    "        layers.BatchNormalization(),\n",
    "        layers.MaxPooling2D(pool_size=(2, 2)),\n",
    "        \n",
    "        \n",
    "        ABCConv(128, kernel_size=(3, 3), activation=None,  padding = \"same\"),\n",
    "        layers.BatchNormalization(),\n",
    "        ABCConv(128, kernel_size=(3, 3), activation=None,  padding = \"same\"),\n",
    "        layers.BatchNormalization(),\n",
    "        layers.MaxPooling2D(pool_size=(2, 2)),\n",
    "        \n",
    "        ABCConv(256, kernel_size=(3, 3), activation=None,  padding = \"same\"),\n",
    "        layers.BatchNormalization(),\n",
    "        layers.Dropout(0.4),\n",
    "        ABCConv(256, kernel_size=(3, 3), activation=None,  padding = \"same\"),\n",
    "        layers.BatchNormalization(),\n",
    "        ABCConv(256, kernel_size=(3, 3), activation=None,  padding = \"same\"),\n",
    "        layers.BatchNormalization(),\n",
    "        layers.MaxPooling2D(pool_size=(2, 2)),\n",
    "\n",
    "        ABCConv(512, kernel_size=(3, 3), activation=None,  padding = \"same\"),\n",
    "        layers.BatchNormalization(),\n",
    "        ABCConv(512, kernel_size=(3, 3), activation=None,  padding = \"same\"),\n",
    "        layers.BatchNormalization(),\n",
    "        ABCConv(512, kernel_size=(3, 3), activation=None,  padding = \"same\"),\n",
    "        layers.BatchNormalization(),\n",
    "        layers.MaxPooling2D(pool_size=(2, 2)),\n",
    "        \n",
    "        ABCConv(512, kernel_size=(3, 3), activation=None,  padding = \"same\"),\n",
    "        layers.BatchNormalization(),\n",
    "        layers.Dropout(0.4),\n",
    "        ABCConv(512, kernel_size=(3, 3), activation=None,  padding = \"same\"),\n",
    "        layers.BatchNormalization(),\n",
    "        ABCConv(512, kernel_size=(3, 3), activation=None,  padding = \"same\"),\n",
    "        layers.BatchNormalization(),\n",
    "        layers.MaxPooling2D(pool_size=(2, 2)),\n",
    "             \n",
    "        layers.Flatten(),\n",
    "        layers.Dense(128, activation=\"relu\"),\n",
    "        layers.Dense(num_classes, activation=\"softmax\")\n",
    "    ]\n",
    ")\n",
    "\n",
    "model_5_5_VGG.summary()"
   ]
  },
  {
   "cell_type": "code",
   "execution_count": null,
   "metadata": {
    "colab": {
     "base_uri": "https://localhost:8080/"
    },
    "id": "IfVyzlGs3FyB",
    "outputId": "48e5e57e-9a7d-40b4-9897-29903ef9b5c6"
   },
   "outputs": [
    {
     "name": "stdout",
     "output_type": "stream",
     "text": [
      "Epoch 1/10\n",
      "704/704 [==============================] - 1778s 3s/step - loss: 2.8451 - categorical_accuracy: 0.1160 - top_k_categorical_accuracy: 0.2937 - val_loss: 3.3353 - val_categorical_accuracy: 0.0676 - val_top_k_categorical_accuracy: 0.2096\n",
      "Epoch 2/10\n",
      "704/704 [==============================] - 1745s 2s/step - loss: 2.7159 - categorical_accuracy: 0.1528 - top_k_categorical_accuracy: 0.3556 - val_loss: 2.7965 - val_categorical_accuracy: 0.1370 - val_top_k_categorical_accuracy: 0.3368\n",
      "Epoch 3/10\n",
      "704/704 [==============================] - 1734s 2s/step - loss: 2.6746 - categorical_accuracy: 0.1640 - top_k_categorical_accuracy: 0.3757 - val_loss: 2.7770 - val_categorical_accuracy: 0.1472 - val_top_k_categorical_accuracy: 0.3396\n",
      "Epoch 4/10\n",
      "704/704 [==============================] - 1729s 2s/step - loss: 2.6416 - categorical_accuracy: 0.1750 - top_k_categorical_accuracy: 0.3959 - val_loss: 2.6663 - val_categorical_accuracy: 0.1770 - val_top_k_categorical_accuracy: 0.3866\n",
      "Epoch 5/10\n",
      "704/704 [==============================] - 1725s 2s/step - loss: 2.5992 - categorical_accuracy: 0.1928 - top_k_categorical_accuracy: 0.4156 - val_loss: 3.1049 - val_categorical_accuracy: 0.1358 - val_top_k_categorical_accuracy: 0.2984\n",
      "Epoch 6/10\n",
      "704/704 [==============================] - 1723s 2s/step - loss: 2.5317 - categorical_accuracy: 0.2150 - top_k_categorical_accuracy: 0.4457 - val_loss: 2.8358 - val_categorical_accuracy: 0.1774 - val_top_k_categorical_accuracy: 0.3660\n",
      "Epoch 7/10\n",
      "704/704 [==============================] - 1722s 2s/step - loss: 2.4575 - categorical_accuracy: 0.2400 - top_k_categorical_accuracy: 0.4759 - val_loss: 2.4755 - val_categorical_accuracy: 0.2452 - val_top_k_categorical_accuracy: 0.4664\n",
      "Epoch 8/10\n",
      "704/704 [==============================] - 1717s 2s/step - loss: 2.3908 - categorical_accuracy: 0.2600 - top_k_categorical_accuracy: 0.5024 - val_loss: 2.5634 - val_categorical_accuracy: 0.2376 - val_top_k_categorical_accuracy: 0.4740\n",
      "Epoch 9/10\n",
      "704/704 [==============================] - 1710s 2s/step - loss: 2.3429 - categorical_accuracy: 0.2760 - top_k_categorical_accuracy: 0.5231 - val_loss: 2.4913 - val_categorical_accuracy: 0.2446 - val_top_k_categorical_accuracy: 0.4838\n",
      "Epoch 10/10\n",
      "704/704 [==============================] - 1706s 2s/step - loss: 2.3069 - categorical_accuracy: 0.2852 - top_k_categorical_accuracy: 0.5361 - val_loss: 2.3921 - val_categorical_accuracy: 0.2698 - val_top_k_categorical_accuracy: 0.5156\n",
      "Evaluate on test data\n",
      "79/79 [==============================] - 141s 2s/step - loss: 2.4183 - categorical_accuracy: 0.2540 - top_k_categorical_accuracy: 0.5040\n",
      "test loss, test acc: [2.4182538986206055, 0.2540000081062317, 0.5040000081062317]\n"
     ]
    }
   ],
   "source": [
    "# M=5, N=5\n",
    "batch_size = 64\n",
    "epochs = 10\n",
    "\n",
    "model_5_5_VGG.compile(loss=\"categorical_crossentropy\", optimizer=\"adam\", metrics=[tf.keras.metrics.CategoricalAccuracy(),tf.keras.metrics.TopKCategoricalAccuracy(k=3)],run_eagerly=True)\n",
    "\n",
    "model_5_5_VGG.fit(x_train, y_train, batch_size=batch_size, epochs=epochs, validation_split=0.1)\n",
    "\n",
    "\n",
    "# Evaluate the model on the test data using `evaluate`\n",
    "print(\"Evaluate on test data\")\n",
    "results = model_5_5_VGG.evaluate(x_test, y_test, batch_size=128)\n",
    "print(\"test loss, test acc:\", results)"
   ]
  }
 ],
 "metadata": {
  "accelerator": "GPU",
  "colab": {
   "collapsed_sections": [],
   "name": "Model_5_5_VGG.ipynb",
   "provenance": []
  },
  "kernelspec": {
   "display_name": "Python 3",
   "language": "python",
   "name": "python3"
  },
  "language_info": {
   "codemirror_mode": {
    "name": "ipython",
    "version": 3
   },
   "file_extension": ".py",
   "mimetype": "text/x-python",
   "name": "python",
   "nbconvert_exporter": "python",
   "pygments_lexer": "ipython3",
   "version": "3.6.9"
  }
 },
 "nbformat": 4,
 "nbformat_minor": 1
}
