{
 "cells": [
  {
   "cell_type": "markdown",
   "metadata": {
    "id": "eL-ncWkVsr9I"
   },
   "source": [
    "## Conversion from convolution filter to binary filter"
   ]
  },
  {
   "cell_type": "code",
   "execution_count": 1,
   "metadata": {
    "id": "mDwRLx0Sswe4"
   },
   "outputs": [],
   "source": [
    "import tensorflow as tf\n",
    "import numpy as np\n",
    "from tensorflow import keras\n",
    "from tensorflow.keras import layers\n"
   ]
  },
  {
   "cell_type": "code",
   "execution_count": 3,
   "metadata": {
    "colab": {
     "base_uri": "https://localhost:8080/"
    },
    "id": "6i5CE6lGZsMI",
    "outputId": "a2a5e51d-cc4d-4074-c10c-62c247a9ec59"
   },
   "outputs": [],
   "source": [
    "assert tf.__version__ >= \"2.7.0\""
   ]
  },
  {
   "cell_type": "code",
   "execution_count": null,
   "metadata": {
    "id": "Iq0djj9nDmE3"
   },
   "outputs": [],
   "source": [
    "tf.config.run_functions_eagerly(True)\n",
    "tf.executing_eagerly()\n",
    "tf.data.experimental.enable_debug_mode()\n"
   ]
  },
  {
   "cell_type": "code",
   "execution_count": null,
   "metadata": {
    "colab": {
     "base_uri": "https://localhost:8080/"
    },
    "id": "9ssryAAxrvuw",
    "outputId": "b123c212-3d68-41ae-9e2c-613bac828536"
   },
   "outputs": [
    {
     "name": "stdout",
     "output_type": "stream",
     "text": [
      "Downloading data from https://www.cs.toronto.edu/~kriz/cifar-100-python.tar.gz\n",
      "169009152/169001437 [==============================] - 4s 0us/step\n",
      "169017344/169001437 [==============================] - 4s 0us/step\n",
      "x_train shape: (50000, 32, 32, 3)\n",
      "50000 train samples\n",
      "10000 test samples\n"
     ]
    }
   ],
   "source": [
    "# Model / data parameters\n",
    "num_classes = 20\n",
    "input_shape = (32, 32, 3)\n",
    "\n",
    "# the data, split between train and test sets\n",
    "(x_train, y_train), (x_test, y_test) = keras.datasets.cifar100.load_data(label_mode='coarse')\n",
    "\n",
    "# Scale images to the [0, 1] range\n",
    "x_train = x_train.astype(\"float32\") / 255\n",
    "x_test = x_test.astype(\"float32\") / 255\n",
    "\n",
    "print(\"x_train shape:\", x_train.shape)\n",
    "print(x_train.shape[0], \"train samples\")\n",
    "print(x_test.shape[0], \"test samples\")\n",
    "\n",
    "\n",
    "# convert class vectors to one-hot representations\n",
    "y_train = keras.utils.to_categorical(y_train, num_classes)\n",
    "y_test = keras.utils.to_categorical(y_test, num_classes)"
   ]
  },
  {
   "cell_type": "code",
   "execution_count": null,
   "metadata": {
    "id": "svXLbpBa1_2e"
   },
   "outputs": [],
   "source": [
    "@tf.custom_gradient\n",
    "def generate_B(W,u): # generate B given weight W and a specified u\n",
    "  def grad(upstream): # define gradient by ourselves (dc/dW, dc/du)\n",
    "    dB_dW = 1\n",
    "    return upstream * dB_dW, 1\n",
    "  std_W = tf.math.reduce_std(W) # calculate std(W)\n",
    "  mean_W =  tf.math.reduce_mean(W) # calculate mean(W)\n",
    "  Bi = tf.math.sign(W - mean_W + u * mean_W) #calculate Bi\n",
    "  return Bi, grad"
   ]
  },
  {
   "cell_type": "code",
   "execution_count": null,
   "metadata": {
    "id": "a5Kz_IbC77na"
   },
   "outputs": [],
   "source": [
    "from sklearn.linear_model import LinearRegression\n",
    "def generate_alpha(W,list_of_B): # generate alpha given weight W and list of B containing all Bi\n",
    "  W = tf.reshape(W, [-1]).numpy() #vectorize W\n",
    "  list_of_reshape_B = []\n",
    "  for i in list_of_B: # vectorize Bi\n",
    "    list_of_reshape_B.append(tf.reshape(i, [-1]))\n",
    "  B = tf.stack(list_of_reshape_B, axis=1).numpy() # put Bi together into a large matrix\n",
    "  reg = LinearRegression(fit_intercept=False).fit(B, W) # linear regression\n",
    "  alpha = reg.coef_ # coefficient of linear regression, which is alpha\n",
    "  return alpha\n",
    "\n",
    "\n"
   ]
  },
  {
   "cell_type": "code",
   "execution_count": null,
   "metadata": {
    "id": "7fGwr3GEmGgb"
   },
   "outputs": [],
   "source": [
    "@tf.custom_gradient\n",
    "def H_v(R, v): # calculate H_v given input R and shift parameter v\n",
    "  def grad(upstream):  # define gradient by ourselves (dc/dR, dc/dv)\n",
    "    return upstream, tf.math.reduce_sum(upstream)\n",
    "  return 2 * tf.cast(tf.math.greater(tf.math.add(R, v), tf.constant(0.5)), tf.float32) - 1, grad # calculate H_v"
   ]
  },
  {
   "cell_type": "markdown",
   "metadata": {},
   "source": [
    "Initialization of ABCConv class with M=3,N=3"
   ]
  },
  {
   "cell_type": "code",
   "execution_count": null,
   "metadata": {
    "id": "EuQQxmbyNcLD"
   },
   "outputs": [],
   "source": [
    "import tensorflow as tf\n",
    "import tensorflow.keras as keras\n",
    "import keras.layers as layers\n",
    "import numpy as np\n",
    "\n",
    "# number of binary activations\n",
    "N = 3\n",
    "class ABCConv(layers.Conv2D): # subclass of layers.Conv2D\n",
    "    def __init__(self, *args, **kwargs):\n",
    "        super().__init__(*args, **kwargs)\n",
    "        self.betas = self.add_weight(\n",
    "            shape=(N,), initializer=\"random_normal\", trainable=True\n",
    "        )\n",
    "        self.vs = self.add_weight(shape=(N,), initializer=\"random_normal\", trainable=True)\n",
    "\n",
    "    def convolution_op(self, inputs, kernel): # override convolution_op\n",
    "        ## Multiple binary activations and bitwise convolution\n",
    "        \n",
    "        # given beta's and v's, get all binary activations\n",
    "        binary_activations = []\n",
    "        list_of_A = []\n",
    "        for i in range(0,N):\n",
    "          list_of_A.append(H_v(inputs,self.vs[i]))\n",
    "        \n",
    "\n",
    "        # get all B\n",
    "        M = 3\n",
    "        list_of_u = []\n",
    "        for i in range(1,M+1): # all u\n",
    "          list_of_u.append(-1 + (i -1.0) * 2 / (M-1))\n",
    "        list_of_B = []\n",
    "        for i in range(1,M+1): # all B\n",
    "          list_of_B.append(generate_B(kernel, list_of_u[i-1]))\n",
    "       \n",
    "        \n",
    "        \n",
    "        # get alphas \n",
    "        alphas = generate_alpha(kernel,list_of_B)\n",
    "        # call individual convs\n",
    "        convs = []\n",
    "        for j in range(N):\n",
    "          for i in range(M):\n",
    "            convs.append(alphas[i]* self.betas[j] * tf.nn.conv2d(\n",
    "                list_of_A[j],\n",
    "                list_of_B[i],\n",
    "                padding=\"VALID\",\n",
    "                strides=list(self.strides),\n",
    "                name=self.__class__.__name__ + \"conv\" + str(i) + str(j),\n",
    "              ))\n",
    "        return tf.add_n(convs) # linear combination of all convolution results\n",
    "        "
   ]
  },
  {
   "cell_type": "code",
   "execution_count": null,
   "metadata": {
    "colab": {
     "base_uri": "https://localhost:8080/"
    },
    "id": "f691yl0ygedY",
    "outputId": "dd5a0ec0-42e5-44c7-fb74-55041c60e3ee"
   },
   "outputs": [
    {
     "name": "stdout",
     "output_type": "stream",
     "text": [
      "Model: \"sequential_6\"\n",
      "_________________________________________________________________\n",
      " Layer (type)                Output Shape              Param #   \n",
      "=================================================================\n",
      " abc_conv_78 (ABCConv)       (None, 32, 32, 64)        1798      \n",
      "                                                                 \n",
      " batch_normalization_78 (Bat  (None, 32, 32, 64)       256       \n",
      " chNormalization)                                                \n",
      "                                                                 \n",
      " abc_conv_79 (ABCConv)       (None, 32, 32, 64)        36934     \n",
      "                                                                 \n",
      " batch_normalization_79 (Bat  (None, 32, 32, 64)       256       \n",
      " chNormalization)                                                \n",
      "                                                                 \n",
      " max_pooling2d_30 (MaxPoolin  (None, 16, 16, 64)       0         \n",
      " g2D)                                                            \n",
      "                                                                 \n",
      " abc_conv_80 (ABCConv)       (None, 16, 16, 128)       73862     \n",
      "                                                                 \n",
      " batch_normalization_80 (Bat  (None, 16, 16, 128)      512       \n",
      " chNormalization)                                                \n",
      "                                                                 \n",
      " abc_conv_81 (ABCConv)       (None, 16, 16, 128)       147590    \n",
      "                                                                 \n",
      " batch_normalization_81 (Bat  (None, 16, 16, 128)      512       \n",
      " chNormalization)                                                \n",
      "                                                                 \n",
      " max_pooling2d_31 (MaxPoolin  (None, 8, 8, 128)        0         \n",
      " g2D)                                                            \n",
      "                                                                 \n",
      " abc_conv_82 (ABCConv)       (None, 8, 8, 256)         295174    \n",
      "                                                                 \n",
      " batch_normalization_82 (Bat  (None, 8, 8, 256)        1024      \n",
      " chNormalization)                                                \n",
      "                                                                 \n",
      " dropout_12 (Dropout)        (None, 8, 8, 256)         0         \n",
      "                                                                 \n",
      " abc_conv_83 (ABCConv)       (None, 8, 8, 256)         590086    \n",
      "                                                                 \n",
      " batch_normalization_83 (Bat  (None, 8, 8, 256)        1024      \n",
      " chNormalization)                                                \n",
      "                                                                 \n",
      " abc_conv_84 (ABCConv)       (None, 8, 8, 256)         590086    \n",
      "                                                                 \n",
      " batch_normalization_84 (Bat  (None, 8, 8, 256)        1024      \n",
      " chNormalization)                                                \n",
      "                                                                 \n",
      " max_pooling2d_32 (MaxPoolin  (None, 4, 4, 256)        0         \n",
      " g2D)                                                            \n",
      "                                                                 \n",
      " abc_conv_85 (ABCConv)       (None, 4, 4, 512)         1180166   \n",
      "                                                                 \n",
      " batch_normalization_85 (Bat  (None, 4, 4, 512)        2048      \n",
      " chNormalization)                                                \n",
      "                                                                 \n",
      " abc_conv_86 (ABCConv)       (None, 4, 4, 512)         2359814   \n",
      "                                                                 \n",
      " batch_normalization_86 (Bat  (None, 4, 4, 512)        2048      \n",
      " chNormalization)                                                \n",
      "                                                                 \n",
      " abc_conv_87 (ABCConv)       (None, 4, 4, 512)         2359814   \n",
      "                                                                 \n",
      " batch_normalization_87 (Bat  (None, 4, 4, 512)        2048      \n",
      " chNormalization)                                                \n",
      "                                                                 \n",
      " max_pooling2d_33 (MaxPoolin  (None, 2, 2, 512)        0         \n",
      " g2D)                                                            \n",
      "                                                                 \n",
      " abc_conv_88 (ABCConv)       (None, 2, 2, 512)         2359814   \n",
      "                                                                 \n",
      " batch_normalization_88 (Bat  (None, 2, 2, 512)        2048      \n",
      " chNormalization)                                                \n",
      "                                                                 \n",
      " dropout_13 (Dropout)        (None, 2, 2, 512)         0         \n",
      "                                                                 \n",
      " abc_conv_89 (ABCConv)       (None, 2, 2, 512)         2359814   \n",
      "                                                                 \n",
      " batch_normalization_89 (Bat  (None, 2, 2, 512)        2048      \n",
      " chNormalization)                                                \n",
      "                                                                 \n",
      " abc_conv_90 (ABCConv)       (None, 2, 2, 512)         2359814   \n",
      "                                                                 \n",
      " batch_normalization_90 (Bat  (None, 2, 2, 512)        2048      \n",
      " chNormalization)                                                \n",
      "                                                                 \n",
      " max_pooling2d_34 (MaxPoolin  (None, 1, 1, 512)        0         \n",
      " g2D)                                                            \n",
      "                                                                 \n",
      " flatten_6 (Flatten)         (None, 512)               0         \n",
      "                                                                 \n",
      " dense_12 (Dense)            (None, 128)               65664     \n",
      "                                                                 \n",
      " dense_13 (Dense)            (None, 20)                2580      \n",
      "                                                                 \n",
      "=================================================================\n",
      "Total params: 14,799,906\n",
      "Trainable params: 14,791,458\n",
      "Non-trainable params: 8,448\n",
      "_________________________________________________________________\n"
     ]
    }
   ],
   "source": [
    "tf.compat.v1.logging.set_verbosity(tf.compat.v1.logging.ERROR)\n",
    "\n",
    "model_3_3_VGG = keras.Sequential(\n",
    "    [\n",
    "        keras.Input(shape=input_shape),\n",
    "\n",
    "\n",
    "        ABCConv(64, kernel_size=(3, 3), activation=None,  padding = \"same\"),\n",
    "        layers.BatchNormalization(),\n",
    "        ABCConv(64, kernel_size=(3, 3), activation=None,  padding = \"same\"),\n",
    "        layers.BatchNormalization(),\n",
    "        layers.MaxPooling2D(pool_size=(2, 2)),\n",
    "        \n",
    "        \n",
    "        ABCConv(128, kernel_size=(3, 3), activation=None,  padding = \"same\"),\n",
    "        layers.BatchNormalization(),\n",
    "        ABCConv(128, kernel_size=(3, 3), activation=None,  padding = \"same\"),\n",
    "        layers.BatchNormalization(),\n",
    "        layers.MaxPooling2D(pool_size=(2, 2)),\n",
    "        \n",
    "        ABCConv(256, kernel_size=(3, 3), activation=None,  padding = \"same\"),\n",
    "        layers.BatchNormalization(),\n",
    "        layers.Dropout(0.4),\n",
    "        ABCConv(256, kernel_size=(3, 3), activation=None,  padding = \"same\"),\n",
    "        layers.BatchNormalization(),\n",
    "        ABCConv(256, kernel_size=(3, 3), activation=None,  padding = \"same\"),\n",
    "        layers.BatchNormalization(),\n",
    "        layers.MaxPooling2D(pool_size=(2, 2)),\n",
    "\n",
    "        ABCConv(512, kernel_size=(3, 3), activation=None,  padding = \"same\"),\n",
    "        layers.BatchNormalization(),\n",
    "        ABCConv(512, kernel_size=(3, 3), activation=None,  padding = \"same\"),\n",
    "        layers.BatchNormalization(),\n",
    "        ABCConv(512, kernel_size=(3, 3), activation=None,  padding = \"same\"),\n",
    "        layers.BatchNormalization(),\n",
    "        layers.MaxPooling2D(pool_size=(2, 2)),\n",
    "        \n",
    "        ABCConv(512, kernel_size=(3, 3), activation=None,  padding = \"same\"),\n",
    "        layers.BatchNormalization(),\n",
    "        layers.Dropout(0.4),\n",
    "        ABCConv(512, kernel_size=(3, 3), activation=None,  padding = \"same\"),\n",
    "        layers.BatchNormalization(),\n",
    "        ABCConv(512, kernel_size=(3, 3), activation=None,  padding = \"same\"),\n",
    "        layers.BatchNormalization(),\n",
    "        layers.MaxPooling2D(pool_size=(2, 2)),\n",
    "             \n",
    "        layers.Flatten(),\n",
    "        layers.Dense(128, activation=\"relu\"),\n",
    "        layers.Dense(num_classes, activation=\"softmax\")\n",
    "    ]\n",
    ")\n",
    "\n",
    "model_3_3_VGG.summary()"
   ]
  },
  {
   "cell_type": "code",
   "execution_count": null,
   "metadata": {
    "colab": {
     "base_uri": "https://localhost:8080/"
    },
    "id": "7rBhdyXvYDyp",
    "outputId": "eaa1a0dd-e459-4d2c-ecbe-8d7586e7dc6a"
   },
   "outputs": [
    {
     "name": "stdout",
     "output_type": "stream",
     "text": [
      "Epoch 1/10\n",
      "704/704 [==============================] - 1040s 1s/step - loss: 2.9429 - categorical_accuracy: 0.0742 - top_k_categorical_accuracy: 0.2174 - val_loss: 2.9480 - val_categorical_accuracy: 0.0828 - val_top_k_categorical_accuracy: 0.2334\n",
      "Epoch 2/10\n",
      "704/704 [==============================] - 1035s 1s/step - loss: 2.8675 - categorical_accuracy: 0.0929 - top_k_categorical_accuracy: 0.2638 - val_loss: 2.8705 - val_categorical_accuracy: 0.1080 - val_top_k_categorical_accuracy: 0.2644\n",
      "Epoch 3/10\n",
      "704/704 [==============================] - 1031s 1s/step - loss: 2.7979 - categorical_accuracy: 0.1193 - top_k_categorical_accuracy: 0.3086 - val_loss: 2.7900 - val_categorical_accuracy: 0.1278 - val_top_k_categorical_accuracy: 0.3160\n",
      "Epoch 4/10\n",
      "704/704 [==============================] - 1030s 1s/step - loss: 2.7381 - categorical_accuracy: 0.1398 - top_k_categorical_accuracy: 0.3473 - val_loss: 2.7516 - val_categorical_accuracy: 0.1402 - val_top_k_categorical_accuracy: 0.3474\n",
      "Epoch 5/10\n",
      "704/704 [==============================] - 1029s 1s/step - loss: 2.6962 - categorical_accuracy: 0.1649 - top_k_categorical_accuracy: 0.3666 - val_loss: 2.7608 - val_categorical_accuracy: 0.1580 - val_top_k_categorical_accuracy: 0.3610\n",
      "Epoch 6/10\n",
      "704/704 [==============================] - 1030s 1s/step - loss: 2.6509 - categorical_accuracy: 0.1790 - top_k_categorical_accuracy: 0.3877 - val_loss: 3.0214 - val_categorical_accuracy: 0.1470 - val_top_k_categorical_accuracy: 0.3434\n",
      "Epoch 7/10\n",
      "704/704 [==============================] - 1029s 1s/step - loss: 2.6032 - categorical_accuracy: 0.1934 - top_k_categorical_accuracy: 0.4099 - val_loss: 2.6413 - val_categorical_accuracy: 0.1834 - val_top_k_categorical_accuracy: 0.3832\n",
      "Epoch 8/10\n",
      "704/704 [==============================] - 1024s 1s/step - loss: 2.5511 - categorical_accuracy: 0.2108 - top_k_categorical_accuracy: 0.4372 - val_loss: 2.6096 - val_categorical_accuracy: 0.1924 - val_top_k_categorical_accuracy: 0.4116\n",
      "Epoch 9/10\n",
      "704/704 [==============================] - 1024s 1s/step - loss: 2.5004 - categorical_accuracy: 0.2256 - top_k_categorical_accuracy: 0.4612 - val_loss: 2.5441 - val_categorical_accuracy: 0.2192 - val_top_k_categorical_accuracy: 0.4448\n",
      "Epoch 10/10\n",
      "704/704 [==============================] - 1019s 1s/step - loss: 2.4638 - categorical_accuracy: 0.2365 - top_k_categorical_accuracy: 0.4727 - val_loss: 2.6759 - val_categorical_accuracy: 0.2072 - val_top_k_categorical_accuracy: 0.4144\n",
      "Evaluate on test data\n",
      "79/79 [==============================] - 85s 1s/step - loss: 2.7027 - categorical_accuracy: 0.1945 - top_k_categorical_accuracy: 0.4052\n",
      "test loss, test acc: [2.702667236328125, 0.19449999928474426, 0.4052000045776367]\n"
     ]
    }
   ],
   "source": [
    "batch_size = 64\n",
    "epochs = 10\n",
    "\n",
    "model_3_3_VGG.compile(loss=\"categorical_crossentropy\", optimizer=\"adam\", metrics=[tf.keras.metrics.CategoricalAccuracy(),tf.keras.metrics.TopKCategoricalAccuracy(k=3)],run_eagerly=True)\n",
    "\n",
    "model_3_3_VGG.fit(x_train, y_train, batch_size=batch_size, epochs=epochs, validation_split=0.1)\n",
    "\n",
    "\n",
    "# Evaluate the model on the test data using `evaluate`\n",
    "print(\"Evaluate on test data\")\n",
    "results = model_3_3_VGG.evaluate(x_test, y_test, batch_size=128)\n",
    "print(\"test loss, test acc:\", results)"
   ]
  }
 ],
 "metadata": {
  "accelerator": "GPU",
  "colab": {
   "collapsed_sections": [],
   "name": "Model_3_3_VGG.ipynb",
   "provenance": []
  },
  "kernelspec": {
   "display_name": "Python 3",
   "language": "python",
   "name": "python3"
  },
  "language_info": {
   "codemirror_mode": {
    "name": "ipython",
    "version": 3
   },
   "file_extension": ".py",
   "mimetype": "text/x-python",
   "name": "python",
   "nbconvert_exporter": "python",
   "pygments_lexer": "ipython3",
   "version": "3.6.9"
  }
 },
 "nbformat": 4,
 "nbformat_minor": 1
}
