{
 "cells": [
  {
   "cell_type": "code",
   "execution_count": null,
   "metadata": {
    "id": "E1HEfwI7H9-_"
   },
   "outputs": [],
   "source": [
    "import tensorflow as tf\n",
    "import numpy as np\n",
    "from tensorflow import keras\n",
    "from tensorflow.keras import layers"
   ]
  },
  {
   "cell_type": "code",
   "execution_count": null,
   "metadata": {
    "id": "4f-KTGU7ITpp"
   },
   "outputs": [],
   "source": [
    "assert tf.__version__ >= \"2.7.0\""
   ]
  },
  {
   "cell_type": "code",
   "execution_count": null,
   "metadata": {
    "id": "m04y43CpIU6n"
   },
   "outputs": [],
   "source": [
    "tf.config.run_functions_eagerly(True)\n",
    "tf.executing_eagerly()\n",
    "tf.data.experimental.enable_debug_mode()\n"
   ]
  },
  {
   "cell_type": "code",
   "execution_count": null,
   "metadata": {
    "colab": {
     "base_uri": "https://localhost:8080/"
    },
    "id": "HyyOGaVZIYg5",
    "outputId": "9211431b-c2bb-4fa9-828c-0abd5cd22f41"
   },
   "outputs": [
    {
     "name": "stdout",
     "output_type": "stream",
     "text": [
      "Downloading data from https://www.cs.toronto.edu/~kriz/cifar-100-python.tar.gz\n",
      "169009152/169001437 [==============================] - 6s 0us/step\n",
      "169017344/169001437 [==============================] - 6s 0us/step\n",
      "x_train shape: (50000, 32, 32, 3)\n",
      "50000 train samples\n",
      "10000 test samples\n"
     ]
    }
   ],
   "source": [
    "# Model / data parameters\n",
    "num_classes = 20\n",
    "input_shape = (32, 32, 3)\n",
    "\n",
    "# the data, split between train and test sets\n",
    "(x_train, y_train), (x_test, y_test) = keras.datasets.cifar100.load_data(label_mode='coarse')\n",
    "\n",
    "# Scale images to the [0, 1] range\n",
    "x_train = x_train.astype(\"float32\") / 255\n",
    "x_test = x_test.astype(\"float32\") / 255\n",
    "\n",
    "print(\"x_train shape:\", x_train.shape)\n",
    "print(x_train.shape[0], \"train samples\")\n",
    "print(x_test.shape[0], \"test samples\")\n",
    "\n",
    "\n",
    "# convert class vectors to one-hot representations\n",
    "y_train = keras.utils.to_categorical(y_train, num_classes)\n",
    "y_test = keras.utils.to_categorical(y_test, num_classes)"
   ]
  },
  {
   "cell_type": "code",
   "execution_count": null,
   "metadata": {
    "colab": {
     "base_uri": "https://localhost:8080/"
    },
    "id": "yIHY3EYhKzaf",
    "outputId": "62cef08f-1e6f-4379-94f0-e39d817929cc"
   },
   "outputs": [
    {
     "name": "stdout",
     "output_type": "stream",
     "text": [
      "Model: \"sequential_1\"\n",
      "_________________________________________________________________\n",
      " Layer (type)                Output Shape              Param #   \n",
      "=================================================================\n",
      " conv2d_13 (Conv2D)          (None, 32, 32, 64)        1792      \n",
      "                                                                 \n",
      " batch_normalization_13 (Bat  (None, 32, 32, 64)       256       \n",
      " chNormalization)                                                \n",
      "                                                                 \n",
      " conv2d_14 (Conv2D)          (None, 32, 32, 64)        36928     \n",
      "                                                                 \n",
      " batch_normalization_14 (Bat  (None, 32, 32, 64)       256       \n",
      " chNormalization)                                                \n",
      "                                                                 \n",
      " max_pooling2d_5 (MaxPooling  (None, 16, 16, 64)       0         \n",
      " 2D)                                                             \n",
      "                                                                 \n",
      " conv2d_15 (Conv2D)          (None, 16, 16, 128)       73856     \n",
      "                                                                 \n",
      " batch_normalization_15 (Bat  (None, 16, 16, 128)      512       \n",
      " chNormalization)                                                \n",
      "                                                                 \n",
      " conv2d_16 (Conv2D)          (None, 16, 16, 128)       147584    \n",
      "                                                                 \n",
      " batch_normalization_16 (Bat  (None, 16, 16, 128)      512       \n",
      " chNormalization)                                                \n",
      "                                                                 \n",
      " max_pooling2d_6 (MaxPooling  (None, 8, 8, 128)        0         \n",
      " 2D)                                                             \n",
      "                                                                 \n",
      " conv2d_17 (Conv2D)          (None, 8, 8, 256)         295168    \n",
      "                                                                 \n",
      " batch_normalization_17 (Bat  (None, 8, 8, 256)        1024      \n",
      " chNormalization)                                                \n",
      "                                                                 \n",
      " dropout_4 (Dropout)         (None, 8, 8, 256)         0         \n",
      "                                                                 \n",
      " conv2d_18 (Conv2D)          (None, 8, 8, 256)         590080    \n",
      "                                                                 \n",
      " batch_normalization_18 (Bat  (None, 8, 8, 256)        1024      \n",
      " chNormalization)                                                \n",
      "                                                                 \n",
      " conv2d_19 (Conv2D)          (None, 8, 8, 256)         590080    \n",
      "                                                                 \n",
      " batch_normalization_19 (Bat  (None, 8, 8, 256)        1024      \n",
      " chNormalization)                                                \n",
      "                                                                 \n",
      " max_pooling2d_7 (MaxPooling  (None, 4, 4, 256)        0         \n",
      " 2D)                                                             \n",
      "                                                                 \n",
      " conv2d_20 (Conv2D)          (None, 4, 4, 512)         1180160   \n",
      "                                                                 \n",
      " batch_normalization_20 (Bat  (None, 4, 4, 512)        2048      \n",
      " chNormalization)                                                \n",
      "                                                                 \n",
      " conv2d_21 (Conv2D)          (None, 4, 4, 512)         2359808   \n",
      "                                                                 \n",
      " batch_normalization_21 (Bat  (None, 4, 4, 512)        2048      \n",
      " chNormalization)                                                \n",
      "                                                                 \n",
      " conv2d_22 (Conv2D)          (None, 4, 4, 512)         2359808   \n",
      "                                                                 \n",
      " batch_normalization_22 (Bat  (None, 4, 4, 512)        2048      \n",
      " chNormalization)                                                \n",
      "                                                                 \n",
      " max_pooling2d_8 (MaxPooling  (None, 2, 2, 512)        0         \n",
      " 2D)                                                             \n",
      "                                                                 \n",
      " conv2d_23 (Conv2D)          (None, 2, 2, 512)         2359808   \n",
      "                                                                 \n",
      " batch_normalization_23 (Bat  (None, 2, 2, 512)        2048      \n",
      " chNormalization)                                                \n",
      "                                                                 \n",
      " dropout_5 (Dropout)         (None, 2, 2, 512)         0         \n",
      "                                                                 \n",
      " conv2d_24 (Conv2D)          (None, 2, 2, 512)         2359808   \n",
      "                                                                 \n",
      " batch_normalization_24 (Bat  (None, 2, 2, 512)        2048      \n",
      " chNormalization)                                                \n",
      "                                                                 \n",
      " conv2d_25 (Conv2D)          (None, 2, 2, 512)         2359808   \n",
      "                                                                 \n",
      " batch_normalization_25 (Bat  (None, 2, 2, 512)        2048      \n",
      " chNormalization)                                                \n",
      "                                                                 \n",
      " max_pooling2d_9 (MaxPooling  (None, 1, 1, 512)        0         \n",
      " 2D)                                                             \n",
      "                                                                 \n",
      " flatten_1 (Flatten)         (None, 512)               0         \n",
      "                                                                 \n",
      " dense_2 (Dense)             (None, 128)               65664     \n",
      "                                                                 \n",
      " dense_3 (Dense)             (None, 20)                2580      \n",
      "                                                                 \n",
      "=================================================================\n",
      "Total params: 14,799,828\n",
      "Trainable params: 14,791,380\n",
      "Non-trainable params: 8,448\n",
      "_________________________________________________________________\n"
     ]
    }
   ],
   "source": [
    "model_full_precision = keras.Sequential(\n",
    "    [\n",
    "        keras.Input(shape=inout_shape),\n",
    "\n",
    "        \n",
    "        layers.Conv2D(64, kernel_size=(3, 3), activation=\"relu\", padding = \"same\"),\n",
    "        layers.BatchNormalization(),\n",
    "        layers.Conv2D(64, kernel_size=(3, 3), activation=\"relu\", padding = \"same\"),\n",
    "        layers.BatchNormalization(),\n",
    "        layers.MaxPooling2D(pool_size=(2, 2)),\n",
    "        \n",
    "        \n",
    "        \n",
    "        layers.Conv2D(128, kernel_size=(3, 3), activation=\"relu\", padding = \"same\"),\n",
    "        layers.BatchNormalization(),\n",
    "        layers.Conv2D(128, kernel_size=(3, 3), activation=\"relu\", padding = \"same\"),\n",
    "        layers.BatchNormalization(),\n",
    "        layers.MaxPooling2D(pool_size=(2, 2)),\n",
    "        \n",
    "        layers.Conv2D(256, kernel_size=(3, 3), activation=\"relu\", padding = \"same\"),\n",
    "        layers.BatchNormalization(),\n",
    "        layers.Dropout(0.4),\n",
    "        layers.Conv2D(256, kernel_size=(3, 3), activation=\"relu\", padding = \"same\"),\n",
    "        layers.BatchNormalization(),\n",
    "        layers.Conv2D(256, kernel_size=(3, 3), activation=\"relu\", padding = \"same\"),\n",
    "        layers.BatchNormalization(),\n",
    "        layers.MaxPooling2D(pool_size=(2, 2)),\n",
    "        \n",
    "        layers.Conv2D(512, kernel_size=(3, 3), activation=\"relu\", padding = \"same\"),\n",
    "        layers.BatchNormalization(),\n",
    "        layers.Conv2D(512, kernel_size=(3, 3), activation=\"relu\", padding = \"same\"),\n",
    "        layers.BatchNormalization(),\n",
    "        layers.Conv2D(512, kernel_size=(3, 3), activation=\"relu\", padding = \"same\"),\n",
    "        layers.BatchNormalization(),\n",
    "        layers.MaxPooling2D(pool_size=(2, 2)),\n",
    "        \n",
    "        layers.Conv2D(512, kernel_size=(3, 3), activation=\"relu\", padding = \"same\"),\n",
    "        layers.BatchNormalization(),\n",
    "        layers.Dropout(0.4),\n",
    "        layers.Conv2D(512, kernel_size=(3, 3), activation=\"relu\", padding = \"same\"),\n",
    "        layers.BatchNormalization(),\n",
    "        layers.Conv2D(512, kernel_size=(3, 3), activation=\"relu\", padding = \"same\"),\n",
    "        layers.BatchNormalization(),\n",
    "        layers.MaxPooling2D(pool_size=(2, 2)),\n",
    "        \n",
    "        \n",
    "        layers.Flatten(),\n",
    "        layers.Dense(128, activation=\"relu\"),\n",
    "        layers.Dense(20, activation=\"softmax\"),\n",
    "\n",
    "    ]\n",
    ")\n",
    "\n",
    "model_full_precision.summary()\n",
    "\n"
   ]
  },
  {
   "cell_type": "code",
   "execution_count": null,
   "metadata": {
    "colab": {
     "base_uri": "https://localhost:8080/"
    },
    "id": "2IjZlhnIK43Y",
    "outputId": "093217ac-17d2-4561-af95-7d04315c5035"
   },
   "outputs": [
    {
     "name": "stdout",
     "output_type": "stream",
     "text": [
      "Epoch 1/10\n",
      "704/704 [==============================] - 132s 176ms/step - loss: 2.4934 - categorical_accuracy: 0.2293 - top_k_categorical_accuracy: 0.4584 - val_loss: 3.3607 - val_categorical_accuracy: 0.1904 - val_top_k_categorical_accuracy: 0.4144\n",
      "Epoch 2/10\n",
      "704/704 [==============================] - 124s 176ms/step - loss: 2.0021 - categorical_accuracy: 0.3759 - top_k_categorical_accuracy: 0.6375 - val_loss: 2.0558 - val_categorical_accuracy: 0.3882 - val_top_k_categorical_accuracy: 0.6402\n",
      "Epoch 3/10\n",
      "704/704 [==============================] - 123s 175ms/step - loss: 1.6935 - categorical_accuracy: 0.4686 - top_k_categorical_accuracy: 0.7281 - val_loss: 1.8371 - val_categorical_accuracy: 0.4372 - val_top_k_categorical_accuracy: 0.6986\n",
      "Epoch 4/10\n",
      "704/704 [==============================] - 124s 176ms/step - loss: 1.4901 - categorical_accuracy: 0.5261 - top_k_categorical_accuracy: 0.7765 - val_loss: 2.3828 - val_categorical_accuracy: 0.3722 - val_top_k_categorical_accuracy: 0.6076\n",
      "Epoch 5/10\n",
      "704/704 [==============================] - 123s 175ms/step - loss: 1.3330 - categorical_accuracy: 0.5766 - top_k_categorical_accuracy: 0.8143 - val_loss: 1.5274 - val_categorical_accuracy: 0.5296 - val_top_k_categorical_accuracy: 0.7696\n",
      "Epoch 6/10\n",
      "704/704 [==============================] - 124s 175ms/step - loss: 1.1856 - categorical_accuracy: 0.6234 - top_k_categorical_accuracy: 0.8463 - val_loss: 1.5012 - val_categorical_accuracy: 0.5596 - val_top_k_categorical_accuracy: 0.7754\n",
      "Epoch 7/10\n",
      "704/704 [==============================] - 124s 175ms/step - loss: 1.0543 - categorical_accuracy: 0.6628 - top_k_categorical_accuracy: 0.8706 - val_loss: 1.5717 - val_categorical_accuracy: 0.5412 - val_top_k_categorical_accuracy: 0.7676\n",
      "Epoch 8/10\n",
      "704/704 [==============================] - 123s 175ms/step - loss: 0.9254 - categorical_accuracy: 0.7050 - top_k_categorical_accuracy: 0.8950 - val_loss: 1.2688 - val_categorical_accuracy: 0.6244 - val_top_k_categorical_accuracy: 0.8282\n",
      "Epoch 9/10\n",
      "704/704 [==============================] - 123s 175ms/step - loss: 0.8035 - categorical_accuracy: 0.7449 - top_k_categorical_accuracy: 0.9166 - val_loss: 1.2610 - val_categorical_accuracy: 0.6314 - val_top_k_categorical_accuracy: 0.8276\n",
      "Epoch 10/10\n",
      "704/704 [==============================] - 125s 177ms/step - loss: 0.6756 - categorical_accuracy: 0.7842 - top_k_categorical_accuracy: 0.9382 - val_loss: 1.2867 - val_categorical_accuracy: 0.6468 - val_top_k_categorical_accuracy: 0.8378\n",
      "Evaluate on test data\n",
      "79/79 [==============================] - 5s 62ms/step - loss: 1.2978 - categorical_accuracy: 0.6377 - top_k_categorical_accuracy: 0.8381\n",
      "test loss, test acc: [1.2978287935256958, 0.6377000212669373, 0.838100016117096]\n"
     ]
    }
   ],
   "source": [
    "batch_size = 64\n",
    "epochs = 10\n",
    "\n",
    "model_full_precision.compile(loss=\"categorical_crossentropy\", optimizer=\"adam\", metrics=[tf.keras.metrics.CategoricalAccuracy(),tf.keras.metrics.TopKCategoricalAccuracy(k=3)],run_eagerly=True)\n",
    "\n",
    "model_full_precision.fit(x_train, y_train, batch_size=batch_size, epochs=epochs, validation_split=0.1)\n",
    "\n",
    "\n",
    "# Evaluate the model on the test data using `evaluate`\n",
    "print(\"Evaluate on test data\")\n",
    "results = model_full_precision.evaluate(x_test, y_test, batch_size=128)\n",
    "print(\"test loss, test acc:\", results)\n"
   ]
  }
 ],
 "metadata": {
  "accelerator": "GPU",
  "colab": {
   "collapsed_sections": [],
   "name": "FullPrecision_VGG.ipynb",
   "provenance": []
  },
  "kernelspec": {
   "display_name": "Python 3",
   "language": "python",
   "name": "python3"
  },
  "language_info": {
   "codemirror_mode": {
    "name": "ipython",
    "version": 3
   },
   "file_extension": ".py",
   "mimetype": "text/x-python",
   "name": "python",
   "nbconvert_exporter": "python",
   "pygments_lexer": "ipython3",
   "version": "3.6.9"
  }
 },
 "nbformat": 4,
 "nbformat_minor": 1
}
