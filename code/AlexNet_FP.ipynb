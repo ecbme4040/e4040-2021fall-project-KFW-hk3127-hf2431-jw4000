{
 "cells": [
  {
   "cell_type": "markdown",
   "metadata": {
    "id": "eL-ncWkVsr9I"
   },
   "source": [
    "## Conversion from convolution filter to binary filter"
   ]
  },
  {
   "cell_type": "code",
   "execution_count": 1,
   "metadata": {
    "id": "mDwRLx0Sswe4"
   },
   "outputs": [],
   "source": [
    "import tensorflow as tf\n",
    "import numpy as np\n",
    "from tensorflow import keras\n",
    "from tensorflow.keras import layers\n"
   ]
  },
  {
   "cell_type": "code",
   "execution_count": 2,
   "metadata": {
    "colab": {
     "base_uri": "https://localhost:8080/"
    },
    "id": "6i5CE6lGZsMI",
    "outputId": "0fc08106-cb89-47cb-9630-50b7e6324261"
   },
   "outputs": [],
   "source": [
    "assert tf.__version__ >= \"2.7.0\""
   ]
  },
  {
   "cell_type": "code",
   "execution_count": 3,
   "metadata": {
    "id": "Iq0djj9nDmE3"
   },
   "outputs": [],
   "source": [
    "tf.config.run_functions_eagerly(True)\n",
    "tf.executing_eagerly()\n",
    "tf.data.experimental.enable_debug_mode()"
   ]
  },
  {
   "cell_type": "code",
   "execution_count": 4,
   "metadata": {
    "colab": {
     "base_uri": "https://localhost:8080/"
    },
    "id": "9ssryAAxrvuw",
    "outputId": "5c7a4e9e-94c2-4ea4-a0ac-5248c6d1249c"
   },
   "outputs": [
    {
     "name": "stdout",
     "output_type": "stream",
     "text": [
      "Downloading data from https://www.cs.toronto.edu/~kriz/cifar-100-python.tar.gz\n",
      "169009152/169001437 [==============================] - 3s 0us/step\n",
      "169017344/169001437 [==============================] - 3s 0us/step\n",
      "x_train shape: (50000, 32, 32, 3)\n",
      "50000 train samples\n",
      "10000 test samples\n"
     ]
    }
   ],
   "source": [
    "# Model / data parameters\n",
    "num_classes = 20\n",
    "input_shape = (32, 32, 3)\n",
    "\n",
    "# the data, split between train and test sets\n",
    "(x_train, y_train), (x_test, y_test) = keras.datasets.cifar100.load_data(label_mode='coarse')\n",
    "\n",
    "# Scale images to the [0, 1] range\n",
    "x_train = x_train.astype(\"float32\") / 255\n",
    "x_test = x_test.astype(\"float32\") / 255\n",
    "\n",
    "print(\"x_train shape:\", x_train.shape)\n",
    "print(x_train.shape[0], \"train samples\")\n",
    "print(x_test.shape[0], \"test samples\")\n",
    "\n",
    "\n",
    "# convert class vectors to one-hot representations\n",
    "y_train = keras.utils.to_categorical(y_train, num_classes)\n",
    "y_test = keras.utils.to_categorical(y_test, num_classes)"
   ]
  },
  {
   "cell_type": "code",
   "execution_count": 15,
   "metadata": {
    "colab": {
     "base_uri": "https://localhost:8080/"
    },
    "id": "f691yl0ygedY",
    "outputId": "1e19348f-9c60-48fa-ef46-8f66e502237a"
   },
   "outputs": [
    {
     "name": "stdout",
     "output_type": "stream",
     "text": [
      "Model: \"sequential_3\"\n",
      "_________________________________________________________________\n",
      " Layer (type)                Output Shape              Param #   \n",
      "=================================================================\n",
      " conv2d_10 (Conv2D)          (None, 32, 32, 128)       9728      \n",
      "                                                                 \n",
      " max_pooling2d_11 (MaxPoolin  (None, 16, 16, 128)      0         \n",
      " g2D)                                                            \n",
      "                                                                 \n",
      " conv2d_11 (Conv2D)          (None, 16, 16, 256)       295168    \n",
      "                                                                 \n",
      " max_pooling2d_12 (MaxPoolin  (None, 8, 8, 256)        0         \n",
      " g2D)                                                            \n",
      "                                                                 \n",
      " conv2d_12 (Conv2D)          (None, 8, 8, 512)         1180160   \n",
      "                                                                 \n",
      " conv2d_13 (Conv2D)          (None, 8, 8, 256)         1179904   \n",
      "                                                                 \n",
      " conv2d_14 (Conv2D)          (None, 8, 8, 256)         590080    \n",
      "                                                                 \n",
      " max_pooling2d_13 (MaxPoolin  (None, 4, 4, 256)        0         \n",
      " g2D)                                                            \n",
      "                                                                 \n",
      " dropout_4 (Dropout)         (None, 4, 4, 256)         0         \n",
      "                                                                 \n",
      " flatten_3 (Flatten)         (None, 4096)              0         \n",
      "                                                                 \n",
      " dense_10 (Dense)            (None, 1024)              4195328   \n",
      "                                                                 \n",
      " dense_11 (Dense)            (None, 256)               262400    \n",
      "                                                                 \n",
      " dense_12 (Dense)            (None, 64)                16448     \n",
      "                                                                 \n",
      " dense_13 (Dense)            (None, 20)                1300      \n",
      "                                                                 \n",
      "=================================================================\n",
      "Total params: 7,730,516\n",
      "Trainable params: 7,730,516\n",
      "Non-trainable params: 0\n",
      "_________________________________________________________________\n"
     ]
    }
   ],
   "source": [
    "tf.compat.v1.logging.set_verbosity(tf.compat.v1.logging.ERROR)\n",
    "\n",
    "model_AlexNet_full_precision = keras.Sequential(\n",
    "    [\n",
    "        keras.Input(shape=input_shape),\n",
    "\n",
    "\n",
    "        layers.Conv2D(128, kernel_size=(5, 5), activation=\"relu\", padding = \"same\"),\n",
    "        layers.MaxPooling2D(pool_size=(2, 2)),\n",
    "        layers.Conv2D(256, kernel_size=(3, 3), activation=\"relu\", padding = \"same\"),\n",
    "        layers.MaxPooling2D(pool_size=(2, 2)),\n",
    "        \n",
    "        layers.Conv2D(512, kernel_size=(3, 3), activation=\"relu\", padding = \"same\"),\n",
    "        layers.Conv2D(256, kernel_size=(3, 3), activation=\"relu\", padding = \"same\"),\n",
    "        layers.Conv2D(256, kernel_size=(3, 3), activation=\"relu\", padding = \"same\"),\n",
    "        \n",
    "        layers.MaxPooling2D(pool_size=(2, 2)),\n",
    "        \n",
    "        layers.Dropout(0.5),\n",
    "\n",
    "        layers.Flatten(),\n",
    "        layers.Dense(1024, activation=\"relu\"),\n",
    "        layers.Dense(256, activation=\"relu\"),\n",
    "        layers.Dense(64, activation=\"relu\"),\n",
    "        layers.Dense(num_classes, activation=\"softmax\")\n",
    "    ]\n",
    ")\n",
    "\n",
    "model_AlexNet_full_precision.summary()"
   ]
  },
  {
   "cell_type": "code",
   "execution_count": 16,
   "metadata": {
    "colab": {
     "base_uri": "https://localhost:8080/"
    },
    "id": "7rBhdyXvYDyp",
    "outputId": "ac9dfcc9-4521-4086-fb6a-d8be7490df49"
   },
   "outputs": [
    {
     "name": "stdout",
     "output_type": "stream",
     "text": [
      "Epoch 1/10\n",
      "704/704 [==============================] - 129s 181ms/step - loss: 2.6979 - categorical_accuracy: 0.1496 - top_k_categorical_accuracy: 0.3498 - val_loss: 2.5033 - val_categorical_accuracy: 0.2176 - val_top_k_categorical_accuracy: 0.4462\n",
      "Epoch 2/10\n",
      "704/704 [==============================] - 126s 179ms/step - loss: 2.3423 - categorical_accuracy: 0.2698 - top_k_categorical_accuracy: 0.5120 - val_loss: 2.2536 - val_categorical_accuracy: 0.3088 - val_top_k_categorical_accuracy: 0.5394\n",
      "Epoch 3/10\n",
      "704/704 [==============================] - 125s 178ms/step - loss: 2.1694 - categorical_accuracy: 0.3224 - top_k_categorical_accuracy: 0.5751 - val_loss: 2.1084 - val_categorical_accuracy: 0.3482 - val_top_k_categorical_accuracy: 0.5906\n",
      "Epoch 4/10\n",
      "704/704 [==============================] - 125s 178ms/step - loss: 2.0250 - categorical_accuracy: 0.3662 - top_k_categorical_accuracy: 0.6234 - val_loss: 2.0345 - val_categorical_accuracy: 0.3734 - val_top_k_categorical_accuracy: 0.6196\n",
      "Epoch 5/10\n",
      "704/704 [==============================] - 125s 177ms/step - loss: 1.9081 - categorical_accuracy: 0.4056 - top_k_categorical_accuracy: 0.6608 - val_loss: 2.0145 - val_categorical_accuracy: 0.3722 - val_top_k_categorical_accuracy: 0.6258\n",
      "Epoch 6/10\n",
      "704/704 [==============================] - 125s 178ms/step - loss: 1.8051 - categorical_accuracy: 0.4323 - top_k_categorical_accuracy: 0.6925 - val_loss: 1.9537 - val_categorical_accuracy: 0.4008 - val_top_k_categorical_accuracy: 0.6418\n",
      "Epoch 7/10\n",
      "704/704 [==============================] - 124s 177ms/step - loss: 1.7089 - categorical_accuracy: 0.4640 - top_k_categorical_accuracy: 0.7130 - val_loss: 1.8827 - val_categorical_accuracy: 0.4138 - val_top_k_categorical_accuracy: 0.6626\n",
      "Epoch 8/10\n",
      "704/704 [==============================] - 124s 176ms/step - loss: 1.6075 - categorical_accuracy: 0.4933 - top_k_categorical_accuracy: 0.7436 - val_loss: 1.7974 - val_categorical_accuracy: 0.4480 - val_top_k_categorical_accuracy: 0.6920\n",
      "Epoch 9/10\n",
      "704/704 [==============================] - 124s 177ms/step - loss: 1.5090 - categorical_accuracy: 0.5222 - top_k_categorical_accuracy: 0.7660 - val_loss: 1.7736 - val_categorical_accuracy: 0.4644 - val_top_k_categorical_accuracy: 0.6894\n",
      "Epoch 10/10\n",
      "704/704 [==============================] - 125s 177ms/step - loss: 1.4269 - categorical_accuracy: 0.5490 - top_k_categorical_accuracy: 0.7886 - val_loss: 1.7921 - val_categorical_accuracy: 0.4586 - val_top_k_categorical_accuracy: 0.6908\n"
     ]
    },
    {
     "data": {
      "text/plain": [
       "<keras.callbacks.History at 0x7ff13c17f0d0>"
      ]
     },
     "execution_count": 16,
     "metadata": {},
     "output_type": "execute_result"
    }
   ],
   "source": [
    "batch_size = 64\n",
    "epochs = 10\n",
    "\n",
    "model_AlexNet_full_precision.compile(loss=\"categorical_crossentropy\", optimizer=\"adam\", metrics=[tf.keras.metrics.CategoricalAccuracy(),tf.keras.metrics.TopKCategoricalAccuracy(k=3)],run_eagerly=True)\n",
    "\n",
    "model_AlexNet_full_precision.fit(x_train, y_train, batch_size=batch_size, epochs=epochs, validation_split=0.1)\n"
   ]
  },
  {
   "cell_type": "code",
   "execution_count": 17,
   "metadata": {
    "colab": {
     "base_uri": "https://localhost:8080/"
    },
    "id": "VUpBPbboc7Q2",
    "outputId": "88f8dfff-7b3a-4f7a-c51b-6e8e722e687d"
   },
   "outputs": [
    {
     "name": "stdout",
     "output_type": "stream",
     "text": [
      "Evaluate on test data\n",
      "79/79 [==============================] - 7s 83ms/step - loss: 1.7491 - categorical_accuracy: 0.4669 - top_k_categorical_accuracy: 0.7045\n",
      "test loss, test acc: [1.7491263151168823, 0.4668999910354614, 0.7045000195503235]\n",
      "Time taken for prediction 7.195261716842651\n"
     ]
    }
   ],
   "source": [
    "import time\n",
    "\n",
    "start_time = time.time()\n",
    "\n",
    "# Evaluate the model on the test data using `evaluate`\n",
    "print(\"Evaluate on test data\")\n",
    "results = model_AlexNet_full_precision.evaluate(x_test, y_test, batch_size=128)\n",
    "print(\"test loss, test acc:\", results)\n",
    "\n",
    "print(\"Time taken for prediction %s\" % (time.time() - start_time))"
   ]
  }
 ],
 "metadata": {
  "accelerator": "GPU",
  "colab": {
   "collapsed_sections": [],
   "name": "AlexNet_full_precision.ipynb",
   "provenance": [],
   "toc_visible": true
  },
  "kernelspec": {
   "display_name": "Python 3",
   "language": "python",
   "name": "python3"
  },
  "language_info": {
   "codemirror_mode": {
    "name": "ipython",
    "version": 3
   },
   "file_extension": ".py",
   "mimetype": "text/x-python",
   "name": "python",
   "nbconvert_exporter": "python",
   "pygments_lexer": "ipython3",
   "version": "3.6.9"
  }
 },
 "nbformat": 4,
 "nbformat_minor": 1
}
