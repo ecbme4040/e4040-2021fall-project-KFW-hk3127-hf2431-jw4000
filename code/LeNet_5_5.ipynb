{
 "cells": [
  {
   "cell_type": "markdown",
   "metadata": {
    "id": "eL-ncWkVsr9I"
   },
   "source": [
    "## Conversion from convolution filter to binary filter"
   ]
  },
  {
   "cell_type": "code",
   "execution_count": 1,
   "metadata": {
    "id": "mDwRLx0Sswe4"
   },
   "outputs": [
    {
     "name": "stderr",
     "output_type": "stream",
     "text": [
      "2021-12-20 03:02:43.353852: W tensorflow/stream_executor/platform/default/dso_loader.cc:64] Could not load dynamic library 'libcudart.so.11.0'; dlerror: libcudart.so.11.0: cannot open shared object file: No such file or directory\n",
      "2021-12-20 03:02:43.353903: I tensorflow/stream_executor/cuda/cudart_stub.cc:29] Ignore above cudart dlerror if you do not have a GPU set up on your machine.\n"
     ]
    }
   ],
   "source": [
    "import tensorflow as tf\n",
    "import numpy as np\n",
    "from tensorflow import keras\n",
    "from tensorflow.keras import layers\n"
   ]
  },
  {
   "cell_type": "code",
   "execution_count": 2,
   "metadata": {
    "colab": {
     "base_uri": "https://localhost:8080/"
    },
    "id": "6i5CE6lGZsMI",
    "outputId": "b3873371-0f5a-4e1b-b373-3698a6c45abe"
   },
   "outputs": [],
   "source": [
    "assert tf.__version__ >= \"2.7.0\""
   ]
  },
  {
   "cell_type": "code",
   "execution_count": 3,
   "metadata": {
    "id": "Iq0djj9nDmE3"
   },
   "outputs": [],
   "source": [
    "tf.config.run_functions_eagerly(True)\n",
    "tf.executing_eagerly()\n",
    "tf.data.experimental.enable_debug_mode()\n"
   ]
  },
  {
   "cell_type": "code",
   "execution_count": 4,
   "metadata": {
    "colab": {
     "base_uri": "https://localhost:8080/"
    },
    "id": "9ssryAAxrvuw",
    "outputId": "4684a8f3-61f1-46b6-db1f-20d25e894887"
   },
   "outputs": [
    {
     "name": "stdout",
     "output_type": "stream",
     "text": [
      "x_train shape: (50000, 32, 32, 3)\n",
      "50000 train samples\n",
      "10000 test samples\n"
     ]
    }
   ],
   "source": [
    "# Model / data parameters\n",
    "num_classes = 20\n",
    "input_shape = (32, 32, 3)\n",
    "\n",
    "# the data, split between train and test sets\n",
    "(x_train, y_train), (x_test, y_test) = keras.datasets.cifar100.load_data(label_mode='coarse')\n",
    "\n",
    "# Scale images to the [0, 1] range\n",
    "x_train = x_train.astype(\"float32\") / 255\n",
    "x_test = x_test.astype(\"float32\") / 255\n",
    "\n",
    "print(\"x_train shape:\", x_train.shape)\n",
    "print(x_train.shape[0], \"train samples\")\n",
    "print(x_test.shape[0], \"test samples\")\n",
    "\n",
    "\n",
    "# convert class vectors to one-hot representations\n",
    "y_train = keras.utils.to_categorical(y_train, num_classes)\n",
    "y_test = keras.utils.to_categorical(y_test, num_classes)"
   ]
  },
  {
   "cell_type": "code",
   "execution_count": 5,
   "metadata": {
    "id": "svXLbpBa1_2e"
   },
   "outputs": [],
   "source": [
    "@tf.custom_gradient\n",
    "def generate_B(W,u): # generate B given weight W and a specified u\n",
    "  def grad(upstream): # define gradient by ourselves (dc/dW, dc/du)\n",
    "    dB_dW = 1\n",
    "    return upstream * dB_dW, 1\n",
    "  std_W = tf.math.reduce_std(W) # calculate std(W)\n",
    "  mean_W =  tf.math.reduce_mean(W) # calculate mean(W)\n",
    "  Bi = tf.math.sign(W - mean_W + u * mean_W) #calculate Bi\n",
    "  return Bi, grad"
   ]
  },
  {
   "cell_type": "code",
   "execution_count": 6,
   "metadata": {
    "id": "a5Kz_IbC77na"
   },
   "outputs": [],
   "source": [
    "from sklearn.linear_model import LinearRegression\n",
    "def generate_alpha(W,list_of_B): # generate alpha given weight W and list of B containing all Bi\n",
    "  W = tf.reshape(W, [-1]).numpy() #vectorize W\n",
    "  list_of_reshape_B = []\n",
    "  for i in list_of_B: # vectorize Bi\n",
    "    list_of_reshape_B.append(tf.reshape(i, [-1]))\n",
    "  B = tf.stack(list_of_reshape_B, axis=1).numpy() # put Bi together into a large matrix\n",
    "  reg = LinearRegression(fit_intercept=False).fit(B, W) # linear regression\n",
    "  alpha = reg.coef_ # coefficient of linear regression, which is alpha\n",
    "  return alpha\n",
    "\n"
   ]
  },
  {
   "cell_type": "code",
   "execution_count": 7,
   "metadata": {
    "id": "7fGwr3GEmGgb"
   },
   "outputs": [],
   "source": [
    "@tf.custom_gradient\n",
    "def H_v(R, v): # calculate H_v given input R and shift parameter v\n",
    "  def grad(upstream):  # define gradient by ourselves (dc/dR, dc/dv)\n",
    "    return upstream, tf.math.reduce_sum(upstream)\n",
    "  return 2 * tf.cast(tf.math.greater(tf.math.add(R, v), tf.constant(0.5)), tf.float32) - 1, grad # calculate H_v"
   ]
  },
  {
   "cell_type": "markdown",
   "metadata": {},
   "source": [
    "Initialization of ABCConv class with M=5,N=5"
   ]
  },
  {
   "cell_type": "code",
   "execution_count": 8,
   "metadata": {
    "id": "EuQQxmbyNcLD"
   },
   "outputs": [],
   "source": [
    "import tensorflow as tf\n",
    "import tensorflow.keras as keras\n",
    "import keras.layers as layers\n",
    "import numpy as np\n",
    "\n",
    "# number of binary activations\n",
    "N = 5\n",
    "class ABCConv(layers.Conv2D): # subclass of layers.Conv2D\n",
    "    def __init__(self, *args, **kwargs):\n",
    "        super().__init__(*args, **kwargs)\n",
    "        self.betas = self.add_weight(\n",
    "            shape=(N,), initializer=\"random_normal\", trainable=True\n",
    "        )\n",
    "        self.vs = self.add_weight(shape=(N,), initializer=\"random_normal\", trainable=True)\n",
    "\n",
    "    def convolution_op(self, inputs, kernel): # override convolution_op\n",
    "        ## Multiple binary activations and bitwise convolution\n",
    "        \n",
    "        # given beta's and v's, get all binary activations\n",
    "        binary_activations = []\n",
    "        list_of_A = []\n",
    "        for i in range(0,N):\n",
    "          list_of_A.append(H_v(inputs,self.vs[i]))\n",
    "        \n",
    "\n",
    "        # get all B\n",
    "        M = 5\n",
    "        list_of_u = []\n",
    "        for i in range(1,M+1): # all u\n",
    "          list_of_u.append(-1 + (i -1.0) * 2 / (M-1))\n",
    "        list_of_B = []\n",
    "        for i in range(1,M+1): # all B\n",
    "          list_of_B.append(generate_B(kernel, list_of_u[i-1]))\n",
    "       \n",
    "        \n",
    "        \n",
    "        # get alphas \n",
    "        alphas = generate_alpha(kernel,list_of_B)\n",
    "        # call individual convs\n",
    "        convs = []\n",
    "        for j in range(N):\n",
    "          for i in range(M):\n",
    "            convs.append(alphas[i]* self.betas[j] * tf.nn.conv2d(\n",
    "                list_of_A[j],\n",
    "                list_of_B[i],\n",
    "                padding=\"VALID\",\n",
    "                strides=list(self.strides),\n",
    "                name=self.__class__.__name__ + \"conv\" + str(i) + str(j),\n",
    "              ))\n",
    "        return tf.add_n(convs) # linear combination of all convolution results\n",
    "        "
   ]
  },
  {
   "cell_type": "code",
   "execution_count": 9,
   "metadata": {
    "colab": {
     "base_uri": "https://localhost:8080/"
    },
    "id": "scb9UVcKrz_t",
    "outputId": "c731e2e6-3cad-4614-ad47-b35ee52179bb"
   },
   "outputs": [
    {
     "name": "stderr",
     "output_type": "stream",
     "text": [
      "2021-12-20 03:02:56.303955: W tensorflow/stream_executor/platform/default/dso_loader.cc:64] Could not load dynamic library 'libcuda.so.1'; dlerror: libcuda.so.1: cannot open shared object file: No such file or directory\n",
      "2021-12-20 03:02:56.303994: W tensorflow/stream_executor/cuda/cuda_driver.cc:269] failed call to cuInit: UNKNOWN ERROR (303)\n",
      "2021-12-20 03:02:56.304016: I tensorflow/stream_executor/cuda/cuda_diagnostics.cc:156] kernel driver does not appear to be running on this host (cluster-99b4-m): /proc/driver/nvidia/version does not exist\n",
      "2021-12-20 03:02:56.304289: I tensorflow/core/platform/cpu_feature_guard.cc:151] This TensorFlow binary is optimized with oneAPI Deep Neural Network Library (oneDNN) to use the following CPU instructions in performance-critical operations:  AVX2 FMA\n",
      "To enable them in other operations, rebuild TensorFlow with the appropriate compiler flags.\n"
     ]
    },
    {
     "name": "stdout",
     "output_type": "stream",
     "text": [
      "Model: \"sequential\"\n",
      "_________________________________________________________________\n",
      " Layer (type)                Output Shape              Param #   \n",
      "=================================================================\n",
      " abc_conv (ABCConv)          (None, 28, 28, 6)         466       \n",
      "                                                                 \n",
      " max_pooling2d (MaxPooling2D  (None, 14, 14, 6)        0         \n",
      " )                                                               \n",
      "                                                                 \n",
      " batch_normalization (BatchN  (None, 14, 14, 6)        24        \n",
      " ormalization)                                                   \n",
      "                                                                 \n",
      " abc_conv_1 (ABCConv)        (None, 10, 10, 16)        2426      \n",
      "                                                                 \n",
      " max_pooling2d_1 (MaxPooling  (None, 5, 5, 16)         0         \n",
      " 2D)                                                             \n",
      "                                                                 \n",
      " batch_normalization_1 (Batc  (None, 5, 5, 16)         64        \n",
      " hNormalization)                                                 \n",
      "                                                                 \n",
      " flatten (Flatten)           (None, 400)               0         \n",
      "                                                                 \n",
      " dense (Dense)               (None, 512)               205312    \n",
      "                                                                 \n",
      " dense_1 (Dense)             (None, 128)               65664     \n",
      "                                                                 \n",
      " dense_2 (Dense)             (None, 20)                2580      \n",
      "                                                                 \n",
      "=================================================================\n",
      "Total params: 276,536\n",
      "Trainable params: 276,492\n",
      "Non-trainable params: 44\n",
      "_________________________________________________________________\n"
     ]
    }
   ],
   "source": [
    "model_LeNet_5_5 = keras.Sequential(\n",
    "    [\n",
    "        keras.Input(shape=input_shape),\n",
    "\n",
    "        \n",
    "        ABCConv(6, kernel_size=(5, 5), activation=None),\n",
    "\n",
    "        layers.MaxPooling2D(pool_size=(2, 2)),\n",
    "        layers.BatchNormalization(),\n",
    "        \n",
    "\n",
    "        ABCConv(16, kernel_size=(5, 5), activation=None),\n",
    "        layers.MaxPooling2D(pool_size=(2, 2)),\n",
    "        layers.BatchNormalization(),\n",
    "        \n",
    "        \n",
    "        \n",
    "        layers.Flatten(),\n",
    "        layers.Dense(512, activation=\"relu\"),\n",
    "        layers.Dense(128, activation=\"relu\"),\n",
    "        layers.Dense(num_classes, activation=\"softmax\"),\n",
    "    ]\n",
    ")\n",
    "\n",
    "model_LeNet_5_5.summary()"
   ]
  },
  {
   "cell_type": "code",
   "execution_count": null,
   "metadata": {
    "colab": {
     "base_uri": "https://localhost:8080/"
    },
    "id": "1mnjw1bvr3aA",
    "outputId": "06407d9f-db8f-4df5-c5dd-a644b5891dfc"
   },
   "outputs": [
    {
     "name": "stderr",
     "output_type": "stream",
     "text": [
      "2021-12-20 03:03:04.441987: W tensorflow/core/framework/cpu_allocator_impl.cc:82] Allocation of 552960000 exceeds 10% of free system memory.\n"
     ]
    },
    {
     "name": "stdout",
     "output_type": "stream",
     "text": [
      "Epoch 1/5\n",
      "704/704 [==============================] - 456s 648ms/step - loss: 2.5415 - categorical_accuracy: 0.2224 - top_k_categorical_accuracy: 0.4452 - val_loss: 2.6852 - val_categorical_accuracy: 0.2082 - val_top_k_categorical_accuracy: 0.4180\n",
      "Epoch 2/5\n",
      "704/704 [==============================] - 458s 650ms/step - loss: 2.3200 - categorical_accuracy: 0.2871 - top_k_categorical_accuracy: 0.5308 - val_loss: 2.6635 - val_categorical_accuracy: 0.1866 - val_top_k_categorical_accuracy: 0.4038\n",
      "Epoch 3/5\n",
      "704/704 [==============================] - 458s 650ms/step - loss: 2.2272 - categorical_accuracy: 0.3165 - top_k_categorical_accuracy: 0.5634 - val_loss: 2.5359 - val_categorical_accuracy: 0.2678 - val_top_k_categorical_accuracy: 0.4982\n",
      "Epoch 4/5\n",
      "704/704 [==============================] - 456s 647ms/step - loss: 2.1439 - categorical_accuracy: 0.3383 - top_k_categorical_accuracy: 0.5917 - val_loss: 2.3349 - val_categorical_accuracy: 0.2888 - val_top_k_categorical_accuracy: 0.5296\n",
      "Epoch 5/5\n",
      "704/704 [==============================] - 456s 648ms/step - loss: 2.0763 - categorical_accuracy: 0.3581 - top_k_categorical_accuracy: 0.6150 - val_loss: 2.4887 - val_categorical_accuracy: 0.2968 - val_top_k_categorical_accuracy: 0.5384\n"
     ]
    },
    {
     "data": {
      "text/plain": [
       "<keras.callbacks.History at 0x7fbfe456ffd0>"
      ]
     },
     "execution_count": 10,
     "metadata": {},
     "output_type": "execute_result"
    }
   ],
   "source": [
    "batch_size = 64\n",
    "epochs = 5\n",
    "\n",
    "model_LeNet_5_5.compile(loss=\"categorical_crossentropy\", optimizer=\"adam\", metrics=[tf.keras.metrics.CategoricalAccuracy(),tf.keras.metrics.TopKCategoricalAccuracy(k=3)],run_eagerly=True)\n",
    "\n",
    "model_LeNet_5_5.fit(x_train, y_train, batch_size=batch_size, epochs=epochs, validation_split=0.1)"
   ]
  },
  {
   "cell_type": "code",
   "execution_count": 12,
   "metadata": {
    "id": "QIqQChstbD2y"
   },
   "outputs": [
    {
     "name": "stdout",
     "output_type": "stream",
     "text": [
      "Evaluate on test data\n",
      "79/79 [==============================] - 27s 339ms/step - loss: 2.5097 - categorical_accuracy: 0.2820 - top_k_categorical_accuracy: 0.5266\n",
      "test loss, test acc: [2.509688377380371, 0.28200000524520874, 0.5266000032424927]\n"
     ]
    }
   ],
   "source": [
    "\n",
    "# Evaluate the model on the test data using `evaluate`\n",
    "print(\"Evaluate on test data\")\n",
    "results = model_LeNet_5_5.evaluate(x_test, y_test, batch_size=128)\n",
    "print(\"test loss, test acc:\", results)"
   ]
  }
 ],
 "metadata": {
  "accelerator": "GPU",
  "colab": {
   "collapsed_sections": [],
   "name": "LeNet_FP.ipynb",
   "provenance": []
  },
  "kernelspec": {
   "display_name": "Python 3",
   "language": "python",
   "name": "python3"
  },
  "language_info": {
   "codemirror_mode": {
    "name": "ipython",
    "version": 3
   },
   "file_extension": ".py",
   "mimetype": "text/x-python",
   "name": "python",
   "nbconvert_exporter": "python",
   "pygments_lexer": "ipython3",
   "version": "3.6.9"
  }
 },
 "nbformat": 4,
 "nbformat_minor": 1
}
