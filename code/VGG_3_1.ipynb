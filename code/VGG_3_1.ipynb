{
 "cells": [
  {
   "cell_type": "code",
   "execution_count": null,
   "metadata": {
    "id": "dXw9rixj6Aog"
   },
   "outputs": [],
   "source": [
    "import tensorflow as tf\n",
    "import numpy as np\n",
    "from tensorflow import keras\n",
    "from tensorflow.keras import layers"
   ]
  },
  {
   "cell_type": "code",
   "execution_count": null,
   "metadata": {
    "id": "5y2-T_g36Wgf"
   },
   "outputs": [],
   "source": [
    "assert tf.__version__ >= \"2.7.0\""
   ]
  },
  {
   "cell_type": "code",
   "execution_count": null,
   "metadata": {
    "id": "1w7N5wZw6az4"
   },
   "outputs": [],
   "source": [
    "tf.config.run_functions_eagerly(True)\n",
    "tf.executing_eagerly()\n",
    "tf.data.experimental.enable_debug_mode()"
   ]
  },
  {
   "cell_type": "code",
   "execution_count": null,
   "metadata": {
    "colab": {
     "base_uri": "https://localhost:8080/"
    },
    "id": "DxXTX40R6xNH",
    "outputId": "d243636c-922d-4f5b-f2e2-932e4eaef69c"
   },
   "outputs": [
    {
     "name": "stdout",
     "output_type": "stream",
     "text": [
      "Downloading data from https://www.cs.toronto.edu/~kriz/cifar-100-python.tar.gz\n",
      "169009152/169001437 [==============================] - 4s 0us/step\n",
      "169017344/169001437 [==============================] - 4s 0us/step\n",
      "x_train shape: (50000, 32, 32, 3)\n",
      "50000 train samples\n",
      "10000 test samples\n"
     ]
    }
   ],
   "source": [
    "# Model / data parameters\n",
    "num_classes = 20\n",
    "input_shape = (32, 32, 3)\n",
    "\n",
    "# the data, split between train and test sets\n",
    "(x_train, y_train), (x_test, y_test) = keras.datasets.cifar100.load_data(label_mode='coarse')\n",
    "\n",
    "# Scale images to the [0, 1] range\n",
    "x_train = x_train.astype(\"float32\") / 255\n",
    "x_test = x_test.astype(\"float32\") / 255\n",
    "\n",
    "print(\"x_train shape:\", x_train.shape)\n",
    "print(x_train.shape[0], \"train samples\")\n",
    "print(x_test.shape[0], \"test samples\")\n",
    "\n",
    "\n",
    "# convert class vectors to one-hot representations\n",
    "y_train = keras.utils.to_categorical(y_train, num_classes)\n",
    "y_test = keras.utils.to_categorical(y_test, num_classes)"
   ]
  },
  {
   "cell_type": "code",
   "execution_count": null,
   "metadata": {
    "id": "jc3B1i2o6ycG"
   },
   "outputs": [],
   "source": [
    "@tf.custom_gradient\n",
    "def generate_B(W,u): # generate B given weight W and a specified u\n",
    "  def grad(upstream): # define gradient by ourselves (dc/dW, dc/du)\n",
    "    dB_dW = 1\n",
    "    return upstream * dB_dW, 1\n",
    "  std_W = tf.math.reduce_std(W) # calculate std(W)\n",
    "  mean_W =  tf.math.reduce_mean(W) # calculate mean(W)\n",
    "  Bi = tf.math.sign(W - mean_W + u * mean_W) #calculate Bi\n",
    "  return Bi, grad"
   ]
  },
  {
   "cell_type": "code",
   "execution_count": null,
   "metadata": {
    "id": "3jJXAYsf623O"
   },
   "outputs": [],
   "source": [
    "from sklearn.linear_model import LinearRegression\n",
    "def generate_alpha(W,list_of_B): # generate alpha given weight W and list of B containing all Bi\n",
    "  W = tf.reshape(W, [-1]).numpy() #vectorize W\n",
    "  list_of_reshape_B = []\n",
    "  for i in list_of_B: # vectorize Bi\n",
    "    list_of_reshape_B.append(tf.reshape(i, [-1]))\n",
    "  B = tf.stack(list_of_reshape_B, axis=1).numpy() # put Bi together into a large matrix\n",
    "  reg = LinearRegression(fit_intercept=False).fit(B, W) # linear regression\n",
    "  alpha = reg.coef_ # coefficient of linear regression, which is alpha\n",
    "  return alpha"
   ]
  },
  {
   "cell_type": "code",
   "execution_count": null,
   "metadata": {
    "id": "p-tH5ENN66SQ"
   },
   "outputs": [],
   "source": [
    "@tf.custom_gradient\n",
    "def H_v(R, v): # calculate H_v given input R and shift parameter v\n",
    "  def grad(upstream):  # define gradient by ourselves (dc/dR, dc/dv)\n",
    "    return upstream, tf.math.reduce_sum(upstream)\n",
    "  return 2 * tf.cast(tf.math.greater(tf.math.add(R, v), tf.constant(0.5)), tf.float32) - 1, grad # calculate H_v"
   ]
  },
  {
   "cell_type": "markdown",
   "metadata": {},
   "source": [
    "Initialization of ABCConv class with M=3,N=1"
   ]
  },
  {
   "cell_type": "code",
   "execution_count": null,
   "metadata": {
    "id": "Nufyew2B7B0t"
   },
   "outputs": [],
   "source": [
    "import tensorflow as tf\n",
    "import tensorflow.keras as keras\n",
    "import keras.layers as layers\n",
    "import numpy as np\n",
    "\n",
    "# number of binary activations\n",
    "N = 1\n",
    "class ABCConv(layers.Conv2D): # subclass of layers.Conv2D\n",
    "    def __init__(self, *args, **kwargs):\n",
    "        super().__init__(*args, **kwargs)\n",
    "        self.betas = self.add_weight(\n",
    "            shape=(N,), initializer=\"random_normal\", trainable=True\n",
    "        )\n",
    "        self.vs = self.add_weight(shape=(N,), initializer=\"random_normal\", trainable=True)\n",
    "\n",
    "    def convolution_op(self, inputs, kernel): # override convolution_op\n",
    "        ## Multiple binary activations and bitwise convolution\n",
    "        \n",
    "        # given beta's and v's, get all binary activations\n",
    "        binary_activations = []\n",
    "        list_of_A = []\n",
    "        for i in range(0,N):\n",
    "          list_of_A.append(H_v(inputs,self.vs[i]))\n",
    "        \n",
    "\n",
    "        # get all B\n",
    "        M = 3\n",
    "        list_of_u = []\n",
    "        for i in range(1,M+1): # all u\n",
    "          list_of_u.append(-1 + (i -1.0) * 2 / (M-1))\n",
    "        list_of_B = []\n",
    "        for i in range(1,M+1): # all B\n",
    "          list_of_B.append(generate_B(kernel, list_of_u[i-1]))\n",
    "       \n",
    "        \n",
    "        \n",
    "        # get alphas \n",
    "        alphas = generate_alpha(kernel,list_of_B)\n",
    "        # call individual convs\n",
    "        convs = []\n",
    "        for j in range(N):\n",
    "          for i in range(M):\n",
    "            convs.append(alphas[i]* self.betas[j] * tf.nn.conv2d(\n",
    "                list_of_A[j],\n",
    "                list_of_B[i],\n",
    "                padding=\"VALID\",\n",
    "                strides=list(self.strides),\n",
    "                name=self.__class__.__name__ + \"conv\" + str(i) + str(j),\n",
    "              ))\n",
    "        return tf.add_n(convs) # linear combination of all convolution results\n",
    "        "
   ]
  },
  {
   "cell_type": "code",
   "execution_count": null,
   "metadata": {
    "colab": {
     "base_uri": "https://localhost:8080/"
    },
    "id": "epXz9gSu7GIW",
    "outputId": "ee014ec0-5aeb-4e8b-dd8b-77408deba903"
   },
   "outputs": [
    {
     "name": "stdout",
     "output_type": "stream",
     "text": [
      "Model: \"sequential_4\"\n",
      "_________________________________________________________________\n",
      " Layer (type)                Output Shape              Param #   \n",
      "=================================================================\n",
      " abc_conv_52 (ABCConv)       (None, 32, 32, 64)        1794      \n",
      "                                                                 \n",
      " batch_normalization_52 (Bat  (None, 32, 32, 64)       256       \n",
      " chNormalization)                                                \n",
      "                                                                 \n",
      " abc_conv_53 (ABCConv)       (None, 32, 32, 64)        36930     \n",
      "                                                                 \n",
      " batch_normalization_53 (Bat  (None, 32, 32, 64)       256       \n",
      " chNormalization)                                                \n",
      "                                                                 \n",
      " max_pooling2d_20 (MaxPoolin  (None, 16, 16, 64)       0         \n",
      " g2D)                                                            \n",
      "                                                                 \n",
      " abc_conv_54 (ABCConv)       (None, 16, 16, 128)       73858     \n",
      "                                                                 \n",
      " batch_normalization_54 (Bat  (None, 16, 16, 128)      512       \n",
      " chNormalization)                                                \n",
      "                                                                 \n",
      " abc_conv_55 (ABCConv)       (None, 16, 16, 128)       147586    \n",
      "                                                                 \n",
      " batch_normalization_55 (Bat  (None, 16, 16, 128)      512       \n",
      " chNormalization)                                                \n",
      "                                                                 \n",
      " max_pooling2d_21 (MaxPoolin  (None, 8, 8, 128)        0         \n",
      " g2D)                                                            \n",
      "                                                                 \n",
      " abc_conv_56 (ABCConv)       (None, 8, 8, 256)         295170    \n",
      "                                                                 \n",
      " batch_normalization_56 (Bat  (None, 8, 8, 256)        1024      \n",
      " chNormalization)                                                \n",
      "                                                                 \n",
      " dropout_8 (Dropout)         (None, 8, 8, 256)         0         \n",
      "                                                                 \n",
      " abc_conv_57 (ABCConv)       (None, 8, 8, 256)         590082    \n",
      "                                                                 \n",
      " batch_normalization_57 (Bat  (None, 8, 8, 256)        1024      \n",
      " chNormalization)                                                \n",
      "                                                                 \n",
      " abc_conv_58 (ABCConv)       (None, 8, 8, 256)         590082    \n",
      "                                                                 \n",
      " batch_normalization_58 (Bat  (None, 8, 8, 256)        1024      \n",
      " chNormalization)                                                \n",
      "                                                                 \n",
      " max_pooling2d_22 (MaxPoolin  (None, 4, 4, 256)        0         \n",
      " g2D)                                                            \n",
      "                                                                 \n",
      " abc_conv_59 (ABCConv)       (None, 4, 4, 512)         1180162   \n",
      "                                                                 \n",
      " batch_normalization_59 (Bat  (None, 4, 4, 512)        2048      \n",
      " chNormalization)                                                \n",
      "                                                                 \n",
      " abc_conv_60 (ABCConv)       (None, 4, 4, 512)         2359810   \n",
      "                                                                 \n",
      " batch_normalization_60 (Bat  (None, 4, 4, 512)        2048      \n",
      " chNormalization)                                                \n",
      "                                                                 \n",
      " abc_conv_61 (ABCConv)       (None, 4, 4, 512)         2359810   \n",
      "                                                                 \n",
      " batch_normalization_61 (Bat  (None, 4, 4, 512)        2048      \n",
      " chNormalization)                                                \n",
      "                                                                 \n",
      " max_pooling2d_23 (MaxPoolin  (None, 2, 2, 512)        0         \n",
      " g2D)                                                            \n",
      "                                                                 \n",
      " abc_conv_62 (ABCConv)       (None, 2, 2, 512)         2359810   \n",
      "                                                                 \n",
      " batch_normalization_62 (Bat  (None, 2, 2, 512)        2048      \n",
      " chNormalization)                                                \n",
      "                                                                 \n",
      " dropout_9 (Dropout)         (None, 2, 2, 512)         0         \n",
      "                                                                 \n",
      " abc_conv_63 (ABCConv)       (None, 2, 2, 512)         2359810   \n",
      "                                                                 \n",
      " batch_normalization_63 (Bat  (None, 2, 2, 512)        2048      \n",
      " chNormalization)                                                \n",
      "                                                                 \n",
      " abc_conv_64 (ABCConv)       (None, 2, 2, 512)         2359810   \n",
      "                                                                 \n",
      " batch_normalization_64 (Bat  (None, 2, 2, 512)        2048      \n",
      " chNormalization)                                                \n",
      "                                                                 \n",
      " max_pooling2d_24 (MaxPoolin  (None, 1, 1, 512)        0         \n",
      " g2D)                                                            \n",
      "                                                                 \n",
      " flatten_4 (Flatten)         (None, 512)               0         \n",
      "                                                                 \n",
      " dense_8 (Dense)             (None, 128)               65664     \n",
      "                                                                 \n",
      " dense_9 (Dense)             (None, 20)                2580      \n",
      "                                                                 \n",
      "=================================================================\n",
      "Total params: 14,799,854\n",
      "Trainable params: 14,791,406\n",
      "Non-trainable params: 8,448\n",
      "_________________________________________________________________\n"
     ]
    }
   ],
   "source": [
    "tf.compat.v1.logging.set_verbosity(tf.compat.v1.logging.ERROR)\n",
    "\n",
    "model_3_1_VGG = keras.Sequential(\n",
    "    [\n",
    "        keras.Input(shape=input_shape),\n",
    "\n",
    "\n",
    "        ABCConv(64, kernel_size=(3, 3), activation=None,  padding = \"same\"),\n",
    "        layers.BatchNormalization(),\n",
    "        ABCConv(64, kernel_size=(3, 3), activation=None,  padding = \"same\"),\n",
    "        layers.BatchNormalization(),\n",
    "        layers.MaxPooling2D(pool_size=(2, 2)),\n",
    "        \n",
    "        \n",
    "        ABCConv(128, kernel_size=(3, 3), activation=None,  padding = \"same\"),\n",
    "        layers.BatchNormalization(),\n",
    "        ABCConv(128, kernel_size=(3, 3), activation=None,  padding = \"same\"),\n",
    "        layers.BatchNormalization(),\n",
    "        layers.MaxPooling2D(pool_size=(2, 2)),\n",
    "        \n",
    "        ABCConv(256, kernel_size=(3, 3), activation=None,  padding = \"same\"),\n",
    "        layers.BatchNormalization(),\n",
    "        layers.Dropout(0.4),\n",
    "        ABCConv(256, kernel_size=(3, 3), activation=None,  padding = \"same\"),\n",
    "        layers.BatchNormalization(),\n",
    "        ABCConv(256, kernel_size=(3, 3), activation=None,  padding = \"same\"),\n",
    "        layers.BatchNormalization(),\n",
    "        layers.MaxPooling2D(pool_size=(2, 2)),\n",
    "\n",
    "        ABCConv(512, kernel_size=(3, 3), activation=None,  padding = \"same\"),\n",
    "        layers.BatchNormalization(),\n",
    "        ABCConv(512, kernel_size=(3, 3), activation=None,  padding = \"same\"),\n",
    "        layers.BatchNormalization(),\n",
    "        ABCConv(512, kernel_size=(3, 3), activation=None,  padding = \"same\"),\n",
    "        layers.BatchNormalization(),\n",
    "        layers.MaxPooling2D(pool_size=(2, 2)),\n",
    "        \n",
    "        ABCConv(512, kernel_size=(3, 3), activation=None,  padding = \"same\"),\n",
    "        layers.BatchNormalization(),\n",
    "        layers.Dropout(0.4),\n",
    "        ABCConv(512, kernel_size=(3, 3), activation=None,  padding = \"same\"),\n",
    "        layers.BatchNormalization(),\n",
    "        ABCConv(512, kernel_size=(3, 3), activation=None,  padding = \"same\"),\n",
    "        layers.BatchNormalization(),\n",
    "        layers.MaxPooling2D(pool_size=(2, 2)),\n",
    "             \n",
    "        layers.Flatten(),\n",
    "        layers.Dense(128, activation=\"relu\"),\n",
    "        layers.Dense(num_classes, activation=\"softmax\")\n",
    "    ]\n",
    ")\n",
    "\n",
    "model_3_1_VGG.summary()"
   ]
  },
  {
   "cell_type": "code",
   "execution_count": null,
   "metadata": {
    "colab": {
     "base_uri": "https://localhost:8080/"
    },
    "id": "77aYAKNi7VJj",
    "outputId": "4497dbda-c59a-4c0b-fe63-a58c1b2b01d4"
   },
   "outputs": [
    {
     "name": "stdout",
     "output_type": "stream",
     "text": [
      "Epoch 1/10\n",
      "704/704 [==============================] - 922s 1s/step - loss: 3.0106 - categorical_accuracy: 0.0492 - top_k_categorical_accuracy: 0.1487 - val_loss: 2.9963 - val_categorical_accuracy: 0.0476 - val_top_k_categorical_accuracy: 0.1406\n",
      "Epoch 2/10\n",
      "704/704 [==============================] - 918s 1s/step - loss: 2.9959 - categorical_accuracy: 0.0499 - top_k_categorical_accuracy: 0.1483 - val_loss: 2.9964 - val_categorical_accuracy: 0.0422 - val_top_k_categorical_accuracy: 0.1352\n",
      "Epoch 3/10\n",
      "704/704 [==============================] - 912s 1s/step - loss: 2.9959 - categorical_accuracy: 0.0492 - top_k_categorical_accuracy: 0.1479 - val_loss: 2.9964 - val_categorical_accuracy: 0.0422 - val_top_k_categorical_accuracy: 0.1342\n",
      "Epoch 4/10\n",
      "704/704 [==============================] - 911s 1s/step - loss: 2.9959 - categorical_accuracy: 0.0499 - top_k_categorical_accuracy: 0.1492 - val_loss: 2.9967 - val_categorical_accuracy: 0.0422 - val_top_k_categorical_accuracy: 0.1336\n",
      "Epoch 5/10\n",
      "704/704 [==============================] - 910s 1s/step - loss: 2.9959 - categorical_accuracy: 0.0483 - top_k_categorical_accuracy: 0.1483 - val_loss: 2.9966 - val_categorical_accuracy: 0.0422 - val_top_k_categorical_accuracy: 0.1336\n",
      "Epoch 6/10\n",
      "704/704 [==============================] - 913s 1s/step - loss: 2.9959 - categorical_accuracy: 0.0494 - top_k_categorical_accuracy: 0.1475 - val_loss: 2.9964 - val_categorical_accuracy: 0.0422 - val_top_k_categorical_accuracy: 0.1348\n",
      "Epoch 7/10\n",
      "704/704 [==============================] - 907s 1s/step - loss: 2.9959 - categorical_accuracy: 0.0479 - top_k_categorical_accuracy: 0.1483 - val_loss: 2.9965 - val_categorical_accuracy: 0.0454 - val_top_k_categorical_accuracy: 0.1336\n",
      "Epoch 8/10\n",
      "704/704 [==============================] - 913s 1s/step - loss: 2.9959 - categorical_accuracy: 0.0484 - top_k_categorical_accuracy: 0.1469 - val_loss: 2.9965 - val_categorical_accuracy: 0.0460 - val_top_k_categorical_accuracy: 0.1342\n",
      "Epoch 9/10\n",
      "704/704 [==============================] - 915s 1s/step - loss: 2.9959 - categorical_accuracy: 0.0488 - top_k_categorical_accuracy: 0.1466 - val_loss: 2.9964 - val_categorical_accuracy: 0.0454 - val_top_k_categorical_accuracy: 0.1336\n",
      "Epoch 10/10\n",
      "704/704 [==============================] - 913s 1s/step - loss: 2.9959 - categorical_accuracy: 0.0485 - top_k_categorical_accuracy: 0.1505 - val_loss: 2.9963 - val_categorical_accuracy: 0.0476 - val_top_k_categorical_accuracy: 0.1402\n",
      "Evaluate on test data\n",
      "79/79 [==============================] - 80s 1s/step - loss: 2.9958 - categorical_accuracy: 0.0500 - top_k_categorical_accuracy: 0.1500\n",
      "test loss, test acc: [2.99576997756958, 0.05000000074505806, 0.15000000596046448]\n"
     ]
    }
   ],
   "source": [
    "# M=3, N=1\n",
    "batch_size = 64\n",
    "epochs = 10\n",
    "\n",
    "model_3_1_VGG.compile(loss=\"categorical_crossentropy\", optimizer=\"adam\", metrics=[tf.keras.metrics.CategoricalAccuracy(),tf.keras.metrics.TopKCategoricalAccuracy(k=3)],run_eagerly=True)\n",
    "\n",
    "model_3_1_VGG.fit(x_train, y_train, batch_size=batch_size, epochs=epochs, validation_split=0.1)\n",
    "\n",
    "\n",
    "# Evaluate the model on the test data using `evaluate`\n",
    "print(\"Evaluate on test data\")\n",
    "results = model_3_1_VGG.evaluate(x_test, y_test, batch_size=128)\n",
    "print(\"test loss, test acc:\", results)"
   ]
  }
 ],
 "metadata": {
  "accelerator": "GPU",
  "colab": {
   "collapsed_sections": [],
   "name": "Model_3_1_VGG.ipynb",
   "provenance": []
  },
  "kernelspec": {
   "display_name": "Python 3",
   "language": "python",
   "name": "python3"
  },
  "language_info": {
   "codemirror_mode": {
    "name": "ipython",
    "version": 3
   },
   "file_extension": ".py",
   "mimetype": "text/x-python",
   "name": "python",
   "nbconvert_exporter": "python",
   "pygments_lexer": "ipython3",
   "version": "3.6.9"
  }
 },
 "nbformat": 4,
 "nbformat_minor": 1
}
